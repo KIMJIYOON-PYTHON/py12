{
  "nbformat": 4,
  "nbformat_minor": 0,
  "metadata": {
    "colab": {
      "name": "ch3_exercises_py12_final copy.ipynb",
      "provenance": [],
      "collapsed_sections": [],
      "include_colab_link": true
    },
    "kernelspec": {
      "name": "python3",
      "display_name": "Python 3"
    }
  },
  "cells": [
    {
      "cell_type": "markdown",
      "metadata": {
        "id": "view-in-github",
        "colab_type": "text"
      },
      "source": [
        "<a href=\"https://colab.research.google.com/github/KIMJIYOON-PYTHON/py12/blob/master/ch3_exercises_py12_final_copy.ipynb\" target=\"_parent\"><img src=\"https://colab.research.google.com/assets/colab-badge.svg\" alt=\"Open In Colab\"/></a>"
      ]
    },
    {
      "cell_type": "markdown",
      "metadata": {
        "id": "ovY5jkD5dpxE",
        "colab_type": "text"
      },
      "source": [
        "## ch3_exercises.ipynb"
      ]
    },
    {
      "cell_type": "markdown",
      "metadata": {
        "id": "SZw6UnxQWYBe",
        "colab_type": "text"
      },
      "source": [
        "## Q1.\n",
        "> 다음 코드의 결괏값은 무엇일까?\n",
        "\n",
        "```\n",
        "a = \"Life is too short, you need python\"\n",
        "if \"wife\" in a: print(\"wife\")\n",
        "elif \"python\" in a and \"you\" not in a: print(\"python\")\n",
        "elif \"shirt\" not in a: print(\"shirt\")\n",
        "elif \"need\" in a: print(\"need\")\n",
        "else: print(\"none\")\n",
        "\n",
        "```"
      ]
    },
    {
      "cell_type": "code",
      "metadata": {
        "id": "rUNNaqJPdg7B",
        "colab_type": "code",
        "outputId": "2695047e-b685-4e10-cdd3-bb11ad56ce10",
        "colab": {
          "base_uri": "https://localhost:8080/",
          "height": 35
        }
      },
      "source": [
        "# [Q1] Code  \n",
        "\n",
        "a = \"Life is too short, you need python\"\n",
        "if \"wife\" in a: print(\"wife\")\n",
        "elif \"python\" in a and \"you\" not in a: print(\"python\")\n",
        "elif \"shirt\" not in a: print(\"shirt\")\n",
        "elif \"need\" in a: print(\"need\")\n",
        "else: print(\"none\")\n",
        "  \n",
        "  \n",
        "  \n",
        "  \n",
        "  # a에는 wife라는 단어는 없으므로 출력이 되지 않는다 \n",
        "  # python 이라는 단어가 포함하며 you라는 단어를 포함하지 않아야 하는데 you가 포함 되었으므로 결과값이 출력이 되지 않는다\n",
        "  #shirt 라는 단어는 a 문자열에 없는가 ? 라는 건데 없으므로 shirt라는 출력 값이 나오는 것이다\n",
        "  #need라는 단어가 a 문자열에 포함 되어 있으므로 참이다 \n",
        "  \n",
        "  가장 먼저 참이 되는 조건이 세번째 조건이므로 shirt가 출력된다. \n",
        "  "
      ],
      "execution_count": 0,
      "outputs": [
        {
          "output_type": "stream",
          "text": [
            "shirt\n"
          ],
          "name": "stdout"
        }
      ]
    },
    {
      "cell_type": "markdown",
      "metadata": {
        "colab_type": "text",
        "id": "re2-XrUYXF1m"
      },
      "source": [
        "## Q2.\n",
        "> while문을 사용해 1부터 1000까지의 자연수 중 3의 배수의 합을 구해 보자.\n"
      ]
    },
    {
      "cell_type": "code",
      "metadata": {
        "colab_type": "code",
        "outputId": "16087783-1935-4733-8a7f-6ee4441c21c4",
        "id": "OA080FV_ssQk",
        "colab": {
          "base_uri": "https://localhost:8080/",
          "height": 35
        }
      },
      "source": [
        "# [Q2] Code\n",
        "result = 0\n",
        "i = 0\n",
        "while i <= 1000:\n",
        "  i=i+1\n",
        "  if i % 3 == 0: \n",
        "        result += i\n",
        "  else: continue\n",
        "print(result) \n"
      ],
      "execution_count": 2,
      "outputs": [
        {
          "output_type": "stream",
          "text": [
            "166833\n"
          ],
          "name": "stdout"
        }
      ]
    },
    {
      "cell_type": "code",
      "metadata": {
        "colab_type": "code",
        "outputId": "285e7ccb-38c5-4627-fcfd-ebe2289725f2",
        "id": "aWAidyDhIbVO",
        "colab": {
          "base_uri": "https://localhost:8080/",
          "height": 35
        }
      },
      "source": [
        "# [Q2] Code\n",
        "result = 0\n",
        "i = 1\n",
        "while i <= 1000:\n",
        "    if i % 3 == 0: \n",
        "        result += i\n",
        "    i += 1\n",
        "\n",
        "print(result) \n"
      ],
      "execution_count": 0,
      "outputs": [
        {
          "output_type": "stream",
          "text": [
            "166833\n"
          ],
          "name": "stdout"
        }
      ]
    },
    {
      "cell_type": "markdown",
      "metadata": {
        "colab_type": "text",
        "id": "UZy8lu_BXGnT"
      },
      "source": [
        "## Q3.\n",
        "> while문을 사용하여 다음과 같이 별(*)을 표시하는 프로그램을 작성해 보자.\n",
        "\n",
        "```\n",
        "*\n",
        "**\n",
        "***\n",
        "****\n",
        "*****\n",
        "\n",
        "```\n"
      ]
    },
    {
      "cell_type": "code",
      "metadata": {
        "colab_type": "code",
        "id": "H9T_sXHzXGnW",
        "outputId": "c2701cce-3c01-4c46-b0d4-891d83916ecf",
        "colab": {
          "base_uri": "https://localhost:8080/",
          "height": 107
        }
      },
      "source": [
        "# [Q3] Code\n",
        "\n",
        "i = 0\n",
        "while True:\n",
        "  i += 1 \n",
        "  if i > 5: break    \n",
        "  print ('*' * i)   "
      ],
      "execution_count": 0,
      "outputs": [
        {
          "output_type": "stream",
          "text": [
            "*\n",
            "**\n",
            "***\n",
            "****\n",
            "*****\n"
          ],
          "name": "stdout"
        }
      ]
    },
    {
      "cell_type": "markdown",
      "metadata": {
        "colab_type": "text",
        "id": "fqypxxqTXHY7"
      },
      "source": [
        "## Q4.\n",
        "> for문을 사용해 1부터 100까지의 숫자를 출력해 보자.\n",
        "- 단순 for문 사용\n",
        "- 리스트 내포 사용"
      ]
    },
    {
      "cell_type": "code",
      "metadata": {
        "colab_type": "code",
        "id": "oQ5UnmayXHY-",
        "outputId": "45e4ade7-d486-4178-d1b6-7ba4513b6960",
        "colab": {
          "base_uri": "https://localhost:8080/",
          "height": 34
        }
      },
      "source": [
        "# [Q4] Code\n",
        "for i in range(1,101):\n",
        "  print(i, end=\" \")\n",
        "\n"
      ],
      "execution_count": 0,
      "outputs": [
        {
          "output_type": "stream",
          "text": [
            "1 2 3 4 5 6 7 8 9 10 11 12 13 14 15 16 17 18 19 20 21 22 23 24 25 26 27 28 29 30 31 32 33 34 35 36 37 38 39 40 41 42 43 44 45 46 47 48 49 50 51 52 53 54 55 56 57 58 59 60 61 62 63 64 65 66 67 68 69 70 71 72 73 74 75 76 77 78 79 80 81 82 83 84 85 86 87 88 89 90 91 92 93 94 95 96 97 98 99 100 "
          ],
          "name": "stdout"
        }
      ]
    },
    {
      "cell_type": "code",
      "metadata": {
        "colab_type": "code",
        "outputId": "c6b67117-411d-4d90-8df7-aac4c061b42f",
        "id": "faPlY75003__",
        "colab": {
          "base_uri": "https://localhost:8080/",
          "height": 73
        }
      },
      "source": [
        "# [Q4] Code\n",
        "a= int(input(\"정수를 입력해 주세요. :\"))\n",
        "for i in range(1,a+1,1):\n",
        "  print(i, end=\" \")\n"
      ],
      "execution_count": 5,
      "outputs": [
        {
          "output_type": "stream",
          "text": [
            "정수를 입력해 주세요. :100\n",
            "1 2 3 4 5 6 7 8 9 10 11 12 13 14 15 16 17 18 19 20 21 22 23 24 25 26 27 28 29 30 31 32 33 34 35 36 37 38 39 40 41 42 43 44 45 46 47 48 49 50 51 52 53 54 55 56 57 58 59 60 61 62 63 64 65 66 67 68 69 70 71 72 73 74 75 76 77 78 79 80 81 82 83 84 85 86 87 88 89 90 91 92 93 94 95 96 97 98 99 100 "
          ],
          "name": "stdout"
        }
      ]
    },
    {
      "cell_type": "code",
      "metadata": {
        "id": "17HMyhzbt-Mo",
        "colab_type": "code",
        "colab": {}
      },
      "source": [
        ""
      ],
      "execution_count": 0,
      "outputs": []
    },
    {
      "cell_type": "markdown",
      "metadata": {
        "colab_type": "text",
        "id": "uqmOTuiPuAH2"
      },
      "source": [
        "A 학급에 총 10명의 학생이 있다. 이 학생들의 중간고사 점수는 다음과 같다.\n",
        "\n",
        "[70, 60, 55, 75, 95, 90, 80, 80, 85, 100]\n",
        "\n",
        "for문을 사용하여 A 학급의 평균 점수를 구해 보자."
      ]
    },
    {
      "cell_type": "code",
      "metadata": {
        "colab_type": "code",
        "outputId": "06bddc48-76a8-424d-fa7f-877c2c3b160f",
        "id": "qIVrLmhGzLE2",
        "colab": {
          "base_uri": "https://localhost:8080/",
          "height": 35
        }
      },
      "source": [
        "# [Q5] Code\n",
        "A=[70,60,55,75,95,90,80,80,85,100]\n",
        "total = 0\n",
        "for score in A :\n",
        "  total += score\n",
        "average=total/10\n",
        "print(average)"
      ],
      "execution_count": 0,
      "outputs": [
        {
          "output_type": "stream",
          "text": [
            "79.0\n"
          ],
          "name": "stdout"
        }
      ]
    },
    {
      "cell_type": "code",
      "metadata": {
        "colab_type": "code",
        "outputId": "5ebbd0e7-23be-464f-9e5b-9f9e6bb30b07",
        "id": "jIEqCPOF0hjV",
        "colab": {
          "base_uri": "https://localhost:8080/",
          "height": 35
        }
      },
      "source": [
        "# [Q5] Code\n",
        "a=[70,60,55,75,95,90,80,80,85,100]\n",
        "sum = 0\n",
        "for i in range(len(a)):\n",
        "    sum = sum + a[i]\n",
        "average = sum / len(a)\n"
      ],
      "execution_count": 0,
      "outputs": [
        {
          "output_type": "stream",
          "text": [
            "79.0\n"
          ],
          "name": "stdout"
        }
      ]
    },
    {
      "cell_type": "code",
      "metadata": {
        "colab_type": "code",
        "id": "5MZQYOVjXIL_",
        "outputId": "daeb2e65-26d9-4cd6-a87b-348758377ce4",
        "colab": {
          "base_uri": "https://localhost:8080/",
          "height": 35
        }
      },
      "source": [
        "# [Q5] Code\n",
        "A=[70,60,55,75,95,90,80,80,85,100]\n",
        "total = 0\n",
        "for score in A :\n",
        "  total += score\n",
        "average=total/len(A)\n",
        "print(average)\n"
      ],
      "execution_count": 0,
      "outputs": [
        {
          "output_type": "stream",
          "text": [
            "79.0\n"
          ],
          "name": "stdout"
        }
      ]
    },
    {
      "cell_type": "code",
      "metadata": {
        "id": "7J__Fa-mticU",
        "colab_type": "code",
        "colab": {
          "base_uri": "https://localhost:8080/",
          "height": 35
        },
        "outputId": "72c38557-4d00-4ee6-cb10-2ccffaadb7ea"
      },
      "source": [
        "a=[70, 60, 55, 75, 95, 90, 80, 80, 85, 100]\n",
        "sum=0\n",
        "for s in range(0,10):\n",
        "  sum+=a[s] \n",
        "print(sum/10)"
      ],
      "execution_count": 4,
      "outputs": [
        {
          "output_type": "stream",
          "text": [
            "79.0\n"
          ],
          "name": "stdout"
        }
      ]
    },
    {
      "cell_type": "markdown",
      "metadata": {
        "id": "_jqw1NCrtjAi",
        "colab_type": "text"
      },
      "source": [
        ""
      ]
    },
    {
      "cell_type": "markdown",
      "metadata": {
        "colab_type": "text",
        "id": "-3KHtOOoXJBV"
      },
      "source": [
        "## Q6.\n",
        "> 리스트 중에서 홀수에만 2를 곱하여 저장하는 다음 코드가 있다.\n",
        "```\n",
        "numbers = [1, 2, 3, 4, 5, 6, 7, 8, 9]\n",
        "result = []\n",
        "for n in numbers:\n",
        "    if n % 2 == 1:\n",
        "        result.append(n*2)\n",
        "```\n",
        "\n",
        "- 위 코드를 리스트 내포(list comprehension)를 사용하여 표현해 보자."
      ]
    },
    {
      "cell_type": "code",
      "metadata": {
        "colab_type": "code",
        "id": "AjYR0lUaXJBa",
        "outputId": "2234ff55-c4da-4bcc-ab54-9e608e76baf2",
        "colab": {
          "base_uri": "https://localhost:8080/",
          "height": 35
        }
      },
      "source": [
        "# [Q6] Code \n",
        "\n",
        "numbers=[1,2,3,4,5]\n",
        "\n",
        "result=[n*2 for n in numbers if n%2==1]\n",
        "print(result)\n"
      ],
      "execution_count": 0,
      "outputs": [
        {
          "output_type": "stream",
          "text": [
            "[2, 6, 10]\n"
          ],
          "name": "stdout"
        }
      ]
    },
    {
      "cell_type": "markdown",
      "metadata": {
        "colab_type": "text",
        "id": "YrS3b88QbmKo"
      },
      "source": [
        "## Q7.\n",
        "> ## [Challenge] 응용 코드 : 평균 성적을 구하시오.\n",
        "```\n",
        "subjects = ['파이썬', '영어', '수학', '물리']\n",
        "scores = [91, 67, 88, 75]\n",
        "```\n",
        "\n",
        "- 평균 성적을 세가지 이상의 방법으로 구하시오."
      ]
    },
    {
      "cell_type": "code",
      "metadata": {
        "colab_type": "code",
        "outputId": "9fc4dcde-c446-47a5-ca8c-5d9d9b3c762d",
        "id": "ESJdKsFOr3gb",
        "colab": {
          "base_uri": "https://localhost:8080/",
          "height": 35
        }
      },
      "source": [
        "# [Q7] Code-1\n",
        "subjects = ['파이썬', '영어', '수학', '물리']\n",
        "scores = [91, 67, 88, 75]\n",
        "result = sum(scores) / len(subjects)\n",
        "print(result)\n"
      ],
      "execution_count": 1,
      "outputs": [
        {
          "output_type": "stream",
          "text": [
            "80.25\n"
          ],
          "name": "stdout"
        }
      ]
    },
    {
      "cell_type": "code",
      "metadata": {
        "colab_type": "code",
        "id": "Ll_2InMWbmKq",
        "outputId": "34beca3c-a89a-442f-de08-fd1580f56998",
        "colab": {
          "base_uri": "https://localhost:8080/",
          "height": 35
        }
      },
      "source": [
        "# [Q7] Code-1\n",
        "A=[91,67,88,75]\n",
        "total = 0\n",
        "for score in A :\n",
        "  total += score\n",
        "average=total/len(A)\n",
        "print(average)\n"
      ],
      "execution_count": 0,
      "outputs": [
        {
          "output_type": "stream",
          "text": [
            "80.25\n"
          ],
          "name": "stdout"
        }
      ]
    },
    {
      "cell_type": "code",
      "metadata": {
        "colab_type": "code",
        "id": "1Yl74HZQcWkw",
        "outputId": "ad434c7a-4b64-4e8a-8c36-c50514e48c9d",
        "colab": {
          "base_uri": "https://localhost:8080/",
          "height": 35
        }
      },
      "source": [
        "# [Q7] Code-2\n",
        "\n",
        "average=(91+67+88+75)/4\n",
        "print(average)\n"
      ],
      "execution_count": 0,
      "outputs": [
        {
          "output_type": "stream",
          "text": [
            "80.25\n"
          ],
          "name": "stdout"
        }
      ]
    },
    {
      "cell_type": "code",
      "metadata": {
        "colab_type": "code",
        "id": "POKZZo1KcW0Q",
        "outputId": "5817ab12-779c-4810-b339-634fdbdbb2aa",
        "colab": {
          "base_uri": "https://localhost:8080/",
          "height": 35
        }
      },
      "source": [
        "# [Q7] Code-3\n",
        "scores={\"파이썬\": 91 , \"영어\":67, \"수학\":88, \"물리\":75}\n",
        "print(\"평균점수는{0}점입니다\".format(sum(scores.values())/len(scores)))\n"
      ],
      "execution_count": 0,
      "outputs": [
        {
          "output_type": "stream",
          "text": [
            "평균점수는80.25점입니다\n"
          ],
          "name": "stdout"
        }
      ]
    },
    {
      "cell_type": "markdown",
      "metadata": {
        "id": "2ljBDShkbqZO",
        "colab_type": "text"
      },
      "source": [
        "## 코딩 연습 결과를 github에 올리기\n",
        "> 완성된 ipython 노트북 파일을 각자의 github에 올리시오.\n",
        "\n",
        "- github 계정 만들기 (계정이 없는 학생)\n",
        "    1. github에 sign up (Google gmail 계정을 이용해서 만드시오.)\n",
        "- github에 노트 올리기\n",
        "    2. github에 각자의 id로 repo를 만드시오. (한번 만들면 계속 재사용)\n",
        "    3. github repo에 연습결과 노트를 올리시오.\n",
        "        - 제출노트: ch3_exercises_id.ipynb\n"
      ]
    },
    {
      "cell_type": "code",
      "metadata": {
        "id": "OnCR-YNCc8B6",
        "colab_type": "code",
        "colab": {}
      },
      "source": [
        ""
      ],
      "execution_count": 0,
      "outputs": []
    }
  ]
}