{
  "nbformat": 4,
  "nbformat_minor": 0,
  "metadata": {
    "colab": {
      "name": "ch8_exercises_py12.ipynb",
      "provenance": [],
      "collapsed_sections": [],
      "include_colab_link": true
    },
    "kernelspec": {
      "name": "python3",
      "display_name": "Python 3"
    }
  },
  "cells": [
    {
      "cell_type": "markdown",
      "metadata": {
        "id": "view-in-github",
        "colab_type": "text"
      },
      "source": [
        "<a href=\"https://colab.research.google.com/github/KIMJIYOON-PYTHON/py12/blob/master/ch8_exercises_py12.ipynb\" target=\"_parent\"><img src=\"https://colab.research.google.com/assets/colab-badge.svg\" alt=\"Open In Colab\"/></a>"
      ]
    },
    {
      "cell_type": "markdown",
      "metadata": {
        "id": "ovY5jkD5dpxE",
        "colab_type": "text"
      },
      "source": [
        "# ch8_exercises.ipynb"
      ]
    },
    {
      "cell_type": "markdown",
      "metadata": {
        "id": "SZw6UnxQWYBe",
        "colab_type": "text"
      },
      "source": [
        "Q1. 문자열 바꾸기\n",
        "> 다음과 같은 문자열이 있다.\n",
        "\n",
        "```\n",
        "a:b:c:d\n",
        "```\n",
        "\n",
        "> 문자열의 split와 join 함수를 사용하여 위 문자열을 다음과 같이 고치시오.\n",
        "\n",
        "```\n",
        "a#b#c#d\n",
        "```\n"
      ]
    },
    {
      "cell_type": "code",
      "metadata": {
        "id": "rUNNaqJPdg7B",
        "colab_type": "code",
        "outputId": "0bf37373-cf70-404a-fc5f-f0529046ebf2",
        "colab": {
          "base_uri": "https://localhost:8080/",
          "height": 35
        }
      },
      "source": [
        "# [Q1] Code-1 \n",
        "\n",
        "a=\"a:b:c:d\"\n",
        "b=a.split(\":\")\n",
        "b\n",
        "c=\"#\".join(b)\n",
        "c"
      ],
      "execution_count": 0,
      "outputs": [
        {
          "output_type": "execute_result",
          "data": {
            "text/plain": [
              "'a#b#c#d'"
            ]
          },
          "metadata": {
            "tags": []
          },
          "execution_count": 2
        }
      ]
    },
    {
      "cell_type": "code",
      "metadata": {
        "colab_type": "code",
        "id": "x0OIIHRmDwtd",
        "outputId": "7587d93c-d1e1-4a4f-e6e8-826d90e3a7f4",
        "colab": {
          "base_uri": "https://localhost:8080/",
          "height": 34
        }
      },
      "source": [
        "# [Q1] Code-2\n",
        "a = \"a:b:c:d\"\n",
        "b = a.replace(\":\", \"#\")\n",
        "print(b)\n"
      ],
      "execution_count": 0,
      "outputs": [
        {
          "output_type": "stream",
          "text": [
            "a#b#c#d\n"
          ],
          "name": "stdout"
        }
      ]
    },
    {
      "cell_type": "code",
      "metadata": {
        "colab_type": "code",
        "outputId": "bf3d2a4c-c7e7-4acd-e53f-caad30068646",
        "id": "v05ClCohLGan",
        "colab": {
          "base_uri": "https://localhost:8080/",
          "height": 34
        }
      },
      "source": [
        "# [Q1] Code-2\n",
        "a = \"a:b:c:d\"\n",
        "a.split(\":\")\n",
        "b=\"#\"\n",
        "b.join(a.split(\":\"))\n",
        "\n"
      ],
      "execution_count": 0,
      "outputs": [
        {
          "output_type": "execute_result",
          "data": {
            "text/plain": [
              "'a#b#c#d'"
            ]
          },
          "metadata": {
            "tags": []
          },
          "execution_count": 2
        }
      ]
    },
    {
      "cell_type": "markdown",
      "metadata": {
        "colab_type": "text",
        "id": "re2-XrUYXF1m"
      },
      "source": [
        "## Q2. 딕셔너리 값 추출하기\n",
        "> 다음은 딕셔너리의 a에서 'C'라는 key에 해당하는 value를 출력하는 프로그램이다.\n",
        "```\n",
        ">>> a = {'A':90, 'B':80}\n",
        ">>> a['C']\n",
        "Traceback (most recent call last):\n",
        "  File \"<stdin>\", line 1, in <module>\n",
        "KeyError: 'C'\n",
        "```\n",
        ">> a 딕셔너리에는 'C'라는 key가 없으므로 위와 같은 오류가 발생한다.  \n",
        ">>'C'에 해당하는 key 값이 없을 경우 오류 대신 70을 얻을 수 있도록 수정하시오."
      ]
    },
    {
      "cell_type": "code",
      "metadata": {
        "colab_type": "code",
        "id": "5MBLUZ5WXF1q",
        "outputId": "1c415287-0903-4d05-e195-71bfdfdc2da8",
        "colab": {
          "base_uri": "https://localhost:8080/",
          "height": 35
        }
      },
      "source": [
        "# [Q2] Code-1\n",
        "\n",
        "a={'A':90,'B':80}\n",
        "a.get('C',70)\n",
        "\n"
      ],
      "execution_count": 0,
      "outputs": [
        {
          "output_type": "execute_result",
          "data": {
            "text/plain": [
              "70"
            ]
          },
          "metadata": {
            "tags": []
          },
          "execution_count": 3
        }
      ]
    },
    {
      "cell_type": "code",
      "metadata": {
        "colab_type": "code",
        "id": "viVk7IDSEQZX",
        "outputId": "9748cb57-093b-4ff4-d7c4-3436be794190",
        "colab": {
          "base_uri": "https://localhost:8080/",
          "height": 34
        }
      },
      "source": [
        "# [Q2] Code-2\n",
        "\n",
        "a['C'] if 'C' in a else 70\n"
      ],
      "execution_count": 0,
      "outputs": [
        {
          "output_type": "execute_result",
          "data": {
            "text/plain": [
              "70"
            ]
          },
          "metadata": {
            "tags": []
          },
          "execution_count": 3
        }
      ]
    },
    {
      "cell_type": "markdown",
      "metadata": {
        "colab_type": "text",
        "id": "UZy8lu_BXGnT"
      },
      "source": [
        "## Q3. 리스트의 더하기와 extend 함수\n",
        "> 다음과 같은 리스트 a가 있다.\n",
        "```\n",
        "a = [1, 2, 3]\n",
        "```\n",
        "> 리스트 a에 [4, 5]를 + 기호를 사용하여 더한 결과는 다음과 같다.\n",
        "```\n",
        ">>> a = [1, 2, 3]\n",
        ">>> a = a + [4,5]\n",
        ">>> a\n",
        "[1, 2, 3, 4, 5]\n",
        "```\n",
        "> 리스트 a에 [4,5]를 extend를 사용하여 더한 결과는 다음과 같다.\n",
        "```\n",
        ">>> a = [1, 2, 3]\n",
        ">>> a.extend([4, 5])\n",
        ">>> a\n",
        "[1, 2, 3, 4, 5]\n",
        "```\n",
        "\n",
        "> ### + 기호를 사용하여 더한 것과 extend한 것의 차이점이 있을까? 있다면 그 차이점을 설명하시오."
      ]
    },
    {
      "cell_type": "code",
      "metadata": {
        "colab_type": "code",
        "id": "H9T_sXHzXGnW",
        "outputId": "1f2d18db-1ef0-478b-eeed-81dc095bd1f4",
        "colab": {
          "base_uri": "https://localhost:8080/",
          "height": 35
        }
      },
      "source": [
        "# [Q3] Explain (코드와 주석으로 설명하시오)\n",
        "a=[1,2,3]\n",
        "id(a) \n",
        "\n",
        "# id 함수는 입력으로 받은 리스트 a의 주소 값을 돌려 준다. \n",
        "# 현재 a라는 리스트는 139986743465800이라는 주소에 저장되어 있다.\n"
      ],
      "execution_count": 0,
      "outputs": [
        {
          "output_type": "execute_result",
          "data": {
            "text/plain": [
              "139986743465800"
            ]
          },
          "metadata": {
            "tags": []
          },
          "execution_count": 1
        }
      ]
    },
    {
      "cell_type": "code",
      "metadata": {
        "colab_type": "code",
        "outputId": "5819f1c3-70a1-4b6d-fe8a-7f810b838145",
        "id": "3bk4PuVoTMzB",
        "colab": {
          "base_uri": "https://localhost:8080/",
          "height": 35
        }
      },
      "source": [
        "# [Q3] Explain (코드와 주석으로 설명하시오)\n",
        "a=a+[4,5]\n",
        "a\n",
        "\n",
        "id(a)\n",
        "\n",
        "\n",
        "# 이전에 리스트 a가 저장되어 있던 주소와 다른 값을 돌려주는 것을 확인할 수 있다.\n",
        "# 주소 값이 다르기 때문에 +를 사용하면 리스트 a의 값이 변하는 것이 아니라 \n",
        "# 두 리스트가 더해진 새로운 리스트가 반환된다는 것을 확인할 수 있다. \n"
      ],
      "execution_count": 0,
      "outputs": [
        {
          "output_type": "execute_result",
          "data": {
            "text/plain": [
              "139986743033352"
            ]
          },
          "metadata": {
            "tags": []
          },
          "execution_count": 3
        }
      ]
    },
    {
      "cell_type": "code",
      "metadata": {
        "id": "wkW0kqm3Tfq2",
        "colab_type": "code",
        "outputId": "1b14a005-0c34-4d19-ca01-bdc71dbdf302",
        "colab": {
          "base_uri": "https://localhost:8080/",
          "height": 35
        }
      },
      "source": [
        "a = [1, 2, 3]\n",
        "id(a)\n"
      ],
      "execution_count": 0,
      "outputs": [
        {
          "output_type": "execute_result",
          "data": {
            "text/plain": [
              "139986743159048"
            ]
          },
          "metadata": {
            "tags": []
          },
          "execution_count": 10
        }
      ]
    },
    {
      "cell_type": "code",
      "metadata": {
        "id": "DBHRyYJmTmwU",
        "colab_type": "code",
        "outputId": "3c0fb355-3f58-4602-b508-f0c9a9b62dbc",
        "colab": {
          "base_uri": "https://localhost:8080/",
          "height": 35
        }
      },
      "source": [
        "a.extend([4, 5]) #리스트 a에 extend를 사용하여 [4, 5]라는 리스트를 더해 주었다\n",
        "a\n",
        "\n",
        "\n"
      ],
      "execution_count": 0,
      "outputs": [
        {
          "output_type": "execute_result",
          "data": {
            "text/plain": [
              "[1, 2, 3, 4, 5]"
            ]
          },
          "metadata": {
            "tags": []
          },
          "execution_count": 11
        }
      ]
    },
    {
      "cell_type": "code",
      "metadata": {
        "id": "iNBgTyDWGnFa",
        "colab_type": "code",
        "outputId": "afae8384-d7b3-485f-a871-64f5dcad4150",
        "colab": {
          "base_uri": "https://localhost:8080/",
          "height": 35
        }
      },
      "source": [
        "id(a) # + 기호를 사용하여 더한 경우와는 달리 주소 값이 변하지 않고 그대로 유지되는 것을 확인할 수 있다.\n"
      ],
      "execution_count": 0,
      "outputs": [
        {
          "output_type": "execute_result",
          "data": {
            "text/plain": [
              "139986743159048"
            ]
          },
          "metadata": {
            "tags": []
          },
          "execution_count": 12
        }
      ]
    },
    {
      "cell_type": "markdown",
      "metadata": {
        "colab_type": "text",
        "id": "fqypxxqTXHY7"
      },
      "source": [
        "## Q4. 리스트 총합 구하기\n",
        "> 다음은 A학급 학생의 점수를 나타내는 리스트이다. 다음 리스트에서 50점 이상 점수의 총합을 구하시오.\n",
        "```\n",
        "A = [20, 55, 67, 82, 45, 33, 90, 87, 100, 25]\n",
        "```"
      ]
    },
    {
      "cell_type": "code",
      "metadata": {
        "colab_type": "code",
        "id": "oQ5UnmayXHY-",
        "outputId": "819b1875-b7b2-40a1-e863-9727951e3048",
        "colab": {
          "base_uri": "https://localhost:8080/",
          "height": 35
        }
      },
      "source": [
        "# [Q4] Code-1\n",
        "A = [20, 55, 67, 82, 45, 33, 90, 87, 100, 25]\n",
        "\n",
        "result = 0\n",
        "while A:                \n",
        "    mark = A.pop()      \n",
        "    if mark >= 50:      \n",
        "        result += mark\n",
        "\n",
        "print(result)          \n"
      ],
      "execution_count": 0,
      "outputs": [
        {
          "output_type": "stream",
          "text": [
            "481\n"
          ],
          "name": "stdout"
        }
      ]
    },
    {
      "cell_type": "code",
      "metadata": {
        "colab_type": "code",
        "id": "pMQ1e6jpFomt",
        "outputId": "b9e1a8a7-067d-40d9-a152-bd8ea75f79ce",
        "colab": {
          "base_uri": "https://localhost:8080/",
          "height": 34
        }
      },
      "source": [
        "# [Q4] Code-2\n",
        "A = [20, 55, 67, 82, 45, 33, 90, 87, 100, 25]\n",
        "\n",
        "result = 0\n",
        "for i in A:\n",
        "  if i >= 50:\n",
        "      result += i\n",
        "print(\"50점 이상 점수를 터특한 학생들의 총합은 : %d\"  %result )\n"
      ],
      "execution_count": 0,
      "outputs": [
        {
          "output_type": "stream",
          "text": [
            "50점 이상 점수를 터특한 학생들의 총합은 : 481\n"
          ],
          "name": "stdout"
        }
      ]
    },
    {
      "cell_type": "code",
      "metadata": {
        "id": "_-IL9mJzNIBt",
        "colab_type": "code",
        "outputId": "186e7980-f326-4de0-9f86-287d471938b9",
        "colab": {
          "base_uri": "https://localhost:8080/",
          "height": 34
        }
      },
      "source": [
        "A = [20, 55, 67, 82, 45, 33, 90, 87, 100, 25]\n",
        "sum(a for a in A if a>=50)\n"
      ],
      "execution_count": 0,
      "outputs": [
        {
          "output_type": "execute_result",
          "data": {
            "text/plain": [
              "481"
            ]
          },
          "metadata": {
            "tags": []
          },
          "execution_count": 10
        }
      ]
    },
    {
      "cell_type": "code",
      "metadata": {
        "id": "mFQBxsG3N4Y8",
        "colab_type": "code",
        "outputId": "abe8acfd-94bd-4044-d9a9-f56e73dbf659",
        "colab": {
          "base_uri": "https://localhost:8080/",
          "height": 34
        }
      },
      "source": [
        "A = [20, 55, 67, 82, 45, 33, 90, 87, 100, 25]\n",
        "num = -1\n",
        "sum = 0\n",
        "while num < 9:\n",
        "\tnum += 1\n",
        "\tif A[num] < 50: continue\n",
        "\tsum = sum + A[num]\n",
        "print(sum)"
      ],
      "execution_count": 0,
      "outputs": [
        {
          "output_type": "stream",
          "text": [
            "481\n"
          ],
          "name": "stdout"
        }
      ]
    },
    {
      "cell_type": "markdown",
      "metadata": {
        "colab_type": "text",
        "id": "NKsvciXZXIL-"
      },
      "source": [
        "## Q5. 피보나치 함수\n",
        "> 첫 번째 항의 값이 0이고 두 번째 항의 값이 1일 때, 이후에 이어지는 항은 이전의 두 항을 더한 값으로 이루어지는 수열을 피보나치 수열이라고 한다.\n",
        "```\n",
        "0, 1, 1, 2, 3, 5, 8, 13, 21, ...\n",
        "```\n",
        "> 입력을 정수 n으로 받았을 때, n 이하까지의 피보나치 수열을 출력하는 함수를 작성해 보자.\n"
      ]
    },
    {
      "cell_type": "code",
      "metadata": {
        "colab_type": "code",
        "id": "5MZQYOVjXIL_",
        "outputId": "5b5a6646-ab8e-45f3-b1fd-4dbd4f17ce33",
        "colab": {
          "base_uri": "https://localhost:8080/",
          "height": 197
        }
      },
      "source": [
        "# [Q5] Code-1\n",
        "\n",
        "def fib(n):\n",
        "    if n == 0 : return 0          \n",
        "    if n == 1 : return 1          \n",
        "    return fib(n-2) + fib(n-1)    \n",
        "\n",
        "for i in range(10):\n",
        "    print(fib(i))"
      ],
      "execution_count": 0,
      "outputs": [
        {
          "output_type": "stream",
          "text": [
            "0\n",
            "1\n",
            "1\n",
            "2\n",
            "3\n",
            "5\n",
            "8\n",
            "13\n",
            "21\n",
            "34\n"
          ],
          "name": "stdout"
        }
      ]
    },
    {
      "cell_type": "code",
      "metadata": {
        "id": "PO2sDtuJOd7C",
        "colab_type": "code",
        "outputId": "f4445842-0b58-4e96-9756-8e7e51186450",
        "colab": {
          "base_uri": "https://localhost:8080/",
          "height": 70
        }
      },
      "source": [
        "def fib(n):\n",
        "    list=[0,1]\n",
        "    i=0\n",
        "    for i in range(2,n):\n",
        "        list.append(list[i-2]+list[i-1])\n",
        "    print(list)\n",
        "    return ''\n",
        "n=int(input(\"정수 n값을 입력하시오.\"))\n",
        "print(fib(n))"
      ],
      "execution_count": 0,
      "outputs": [
        {
          "output_type": "stream",
          "text": [
            "정수 n값을 입력하시오.10\n",
            "[0, 1, 1, 2, 3, 5, 8, 13, 21, 34]\n",
            "\n"
          ],
          "name": "stdout"
        }
      ]
    },
    {
      "cell_type": "markdown",
      "metadata": {
        "colab_type": "text",
        "id": "-3KHtOOoXJBV"
      },
      "source": [
        "## Q6. 숫자의 총합 구하기\n",
        "> 사용자로부터 다음과 같은 숫자를 입력받아 입력받은 숫자의 총합을 구하는 프로그램을 작성하시오. (단 숫자는 콤마로 구분하여 입력한다.)\n",
        "\n",
        "```\n",
        "65,45,2,3,45,8\n",
        "```\n"
      ]
    },
    {
      "cell_type": "code",
      "metadata": {
        "colab_type": "code",
        "id": "AjYR0lUaXJBa",
        "outputId": "af948b02-8f4c-488f-ea9f-3e990b75978c",
        "colab": {
          "base_uri": "https://localhost:8080/",
          "height": 53
        }
      },
      "source": [
        "# [Q6] Code-1\n",
        "user_input = input(\"숫자를 입력하세요: \")\n",
        "numbers = user_input.split(\",\")\n",
        "total = 0\n",
        "for n in numbers:\n",
        "    total += int(n)    \n",
        "print(total)\n"
      ],
      "execution_count": 0,
      "outputs": [
        {
          "output_type": "stream",
          "text": [
            "숫자를 입력하세요: 65,45,2,3,45,8\n",
            "168\n"
          ],
          "name": "stdout"
        }
      ]
    },
    {
      "cell_type": "code",
      "metadata": {
        "colab_type": "code",
        "id": "JpkVe0zxGTK1",
        "outputId": "4ba9110b-b42a-45e1-d0dd-55c147ef49eb",
        "colab": {
          "base_uri": "https://localhost:8080/",
          "height": 141
        }
      },
      "source": [
        "# [Q6] Code-2\n",
        "input1 = input(\"첫번째 숫자를 입력하세요:\")\n",
        "input2 = input(\"두번째 숫자를 입력하세요:\")\n",
        "input3 = input(\"세번째 숫자를 입력하세요:\")\n",
        "input4 = input(\"네번째 숫자를 입력하세요:\")\n",
        "input5 = input(\"다섯번째 숫자를 입력하세요:\")\n",
        "input6 = input(\"여섯번째 숫자를 입력하세요:\")\n",
        "\n",
        "total = int(input1) + int(input2)+ int(input3) + int(input4) + int(input5) + int(input6)\n",
        "\n",
        "print(\"여섯 개의 합은 %s 입니다\" % total)\n"
      ],
      "execution_count": 0,
      "outputs": [
        {
          "output_type": "stream",
          "text": [
            "첫번째 숫자를 입력하세요:65\n",
            "두번째 숫자를 입력하세요:45\n",
            "세번째 숫자를 입력하세요:2\n",
            "네번째 숫자를 입력하세요:3\n",
            "다섯번째 숫자를 입력하세요:45\n",
            "여섯번째 숫자를 입력하세요:8\n",
            "여섯 개의 합은 168 입니다\n"
          ],
          "name": "stdout"
        }
      ]
    },
    {
      "cell_type": "code",
      "metadata": {
        "id": "mknq3qRlQBZf",
        "colab_type": "code",
        "outputId": "4c12a3c6-41f2-47cd-e8d5-4ff4edb255bb",
        "colab": {
          "base_uri": "https://localhost:8080/",
          "height": 141
        }
      },
      "source": [
        "input1 = int(input(\"첫번째 숫자를 입력하세요:\"))\n",
        "input2 = int(input(\"두번째 숫자를 입력하세요:\"))\n",
        "input3 = int(input(\"세번째 숫자를 입력하세요:\"))\n",
        "input4 = int(input(\"네번째 숫자를 입력하세요:\"))\n",
        "input5 = int(input(\"다섯번째 숫자를 입력하세요:\"))\n",
        "input6 = int(input(\"여섯번째 숫자를 입력하세요:\"))\n",
        "\n",
        "total =input1 + input2+ input3 + input4 + input5 + input6\n",
        "\n",
        "print(\"여섯 개의 합은 %s 입니다\" % total)"
      ],
      "execution_count": 0,
      "outputs": [
        {
          "output_type": "stream",
          "text": [
            "첫번째 숫자를 입력하세요:65\n",
            "두번째 숫자를 입력하세요:45\n",
            "세번째 숫자를 입력하세요:2\n",
            "네번째 숫자를 입력하세요:3\n",
            "다섯번째 숫자를 입력하세요:45\n",
            "여섯번째 숫자를 입력하세요:8\n",
            "여섯 개의 합은 168 입니다\n"
          ],
          "name": "stdout"
        }
      ]
    },
    {
      "cell_type": "code",
      "metadata": {
        "id": "o8YDZOiBQkz_",
        "colab_type": "code",
        "outputId": "05ddf2b8-449d-4eae-adb4-12a2108e93be",
        "colab": {
          "base_uri": "https://localhost:8080/",
          "height": 70
        }
      },
      "source": [
        "\n",
        "input1,input2,input3,input4,input5,input6 = map(int,input(\"여섯개의 숫자를 입력하세요 :\").split())\n",
        "\n",
        "\n",
        "print('입력하신 숫자는:',input1,input2,input3,input4,input5,input6)\n",
        "print('여섯 수자의 합은:',input1+input2+input3+input4+input5+input6)\n",
        "\n"
      ],
      "execution_count": 0,
      "outputs": [
        {
          "output_type": "stream",
          "text": [
            "여섯개의 숫자를 입력하세요 :65 45 2 3 45 8\n",
            "입력하신 숫자는: 65 45 2 3 45 8\n",
            "여섯 수자의 합은: 168\n"
          ],
          "name": "stdout"
        }
      ]
    },
    {
      "cell_type": "markdown",
      "metadata": {
        "colab_type": "text",
        "id": "CiMJjZQ_GdyV"
      },
      "source": [
        "## Q7. 한 줄 구구단\n",
        "> 사용자로부터 2~9의 숫자 중 하나를 입력받아 해당 숫자의 구구단을 한 줄로 출력하는 프로그램을 작성하시오.\n",
        "\n",
        "> 실행 예)\n",
        "```\n",
        "구구단을 출력할 숫자를 입력하세요(2~9): 2\n",
        "2 4 6 8 10 12 14 16 18\n",
        "```\n"
      ]
    },
    {
      "cell_type": "code",
      "metadata": {
        "colab_type": "code",
        "id": "_8TQZNIwGdyo",
        "outputId": "c7b89449-eee4-4e5d-d01e-eda0d717484c",
        "colab": {
          "base_uri": "https://localhost:8080/",
          "height": 53
        }
      },
      "source": [
        "# [Q7] Code-1\n",
        "\n",
        "user_input = input(\"구구단을 출력할 숫자를 입력하세요(2~9):\")\n",
        "dan = int(user_input)      \n",
        "for i in range(1, 10):\n",
        "    print(i*dan, end= ' ')  "
      ],
      "execution_count": 0,
      "outputs": [
        {
          "output_type": "stream",
          "text": [
            "구구단을 출력할 숫자를 입력하세요(2~9):4\n",
            "4 8 12 16 20 24 28 32 36 "
          ],
          "name": "stdout"
        }
      ]
    },
    {
      "cell_type": "code",
      "metadata": {
        "colab_type": "code",
        "id": "HRX-wvenGdyx",
        "outputId": "718abf57-976c-4cc5-d7df-24ee0bc044e6",
        "colab": {
          "base_uri": "https://localhost:8080/",
          "height": 194
        }
      },
      "source": [
        "# [Q7] Code-2\n",
        "while True:\n",
        "    number = int(input(\"숫자를 입력하시오\"))\n",
        "    for i in range(1,10):\n",
        "        print (number, \"X\", i, \"=\", number*i)\n",
        "    break\n",
        "\n",
        "\n",
        "\n"
      ],
      "execution_count": 0,
      "outputs": [
        {
          "output_type": "stream",
          "text": [
            "숫자를 입력하시오9\n",
            "9 X 1 = 9\n",
            "9 X 2 = 18\n",
            "9 X 3 = 27\n",
            "9 X 4 = 36\n",
            "9 X 5 = 45\n",
            "9 X 6 = 54\n",
            "9 X 7 = 63\n",
            "9 X 8 = 72\n",
            "9 X 9 = 81\n"
          ],
          "name": "stdout"
        }
      ]
    },
    {
      "cell_type": "code",
      "metadata": {
        "id": "j9hfcWx1TzCX",
        "colab_type": "code",
        "outputId": "9390c57f-3406-43d0-bf5c-c4932dfd277c",
        "colab": {
          "base_uri": "https://localhost:8080/",
          "height": 194
        }
      },
      "source": [
        "number=int(input(\"숫자를 입력하세요:\"))\n",
        "\n",
        "while number<1 or number>9:\n",
        "  number=int(input(\"1~9단까지 출력 가능합니다. 다시 입력해주세요:\"))\n",
        "\n",
        "for x in range(1,10):\n",
        "  print(number,\"x\",x,\"=\", number*x)"
      ],
      "execution_count": 0,
      "outputs": [
        {
          "output_type": "stream",
          "text": [
            "숫자를 입력하세요:9\n",
            "9 x 1 = 9\n",
            "9 x 2 = 18\n",
            "9 x 3 = 27\n",
            "9 x 4 = 36\n",
            "9 x 5 = 45\n",
            "9 x 6 = 54\n",
            "9 x 7 = 63\n",
            "9 x 8 = 72\n",
            "9 x 9 = 81\n"
          ],
          "name": "stdout"
        }
      ]
    },
    {
      "cell_type": "markdown",
      "metadata": {
        "colab_type": "text",
        "id": "YrS3b88QbmKo"
      },
      "source": [
        "## Q8. 역순 저장\n",
        "> 다음과 같은 내용의 파일 abc.txt가 있다.\n",
        "```\n",
        "AAA\n",
        "BBB\n",
        "CCC\n",
        "DDD\n",
        "EEE\n",
        "```\n",
        "> 이 파일의 내용을 다음과 같이 역순으로 바꾸어 저장하시오.\n",
        "```\n",
        "EEE\n",
        "DDD\n",
        "CCC\n",
        "BBB\n",
        "AAA\n",
        "```"
      ]
    },
    {
      "cell_type": "code",
      "metadata": {
        "colab_type": "code",
        "id": "Ll_2InMWbmKq",
        "colab": {}
      },
      "source": [
        "# [Q8] Code-1\n",
        "\n",
        "f = open('abc.txt', 'r')\n",
        "lines = f.readlines()    # 모든 라인을 읽음\n",
        "f.close()\n",
        "\n",
        "lines.reverse()          # 읽은 라인을 역순으로 정렬\n",
        "\n",
        "\n",
        "f = open('abc.txt', 'w')\n",
        "for line in lines:\n",
        "    line = line.strip()  # 포함되어 있는 줄 바꿈 문자 제거\n",
        "    f.write(line)\n",
        "    f.write('\\n')        # 줄 바꿈 문자 삽입\n",
        "f.close()\n",
        "\n",
        "\n"
      ],
      "execution_count": 0,
      "outputs": []
    },
    {
      "cell_type": "code",
      "metadata": {
        "colab_type": "code",
        "id": "N3uG53JsHIYX",
        "colab": {}
      },
      "source": [
        "# [Q8] Code-2\n",
        "f = open('abc.txt', 'r')\n",
        "lines = f.readlines()    # 모든 라인을 읽음\n",
        "f.close()\n",
        "\n",
        "lines.sort()    \n",
        "lines.reverse()    \n",
        "\n",
        "f = open('abc.txt', 'w')\n",
        "for line in lines:\n",
        "    line = line.strip()  # 포함되어 있는 줄 바꿈 문자 제거\n",
        "    f.write(line)\n",
        "    f.write('\\n')        # 줄 바꿈 문자 삽입\n",
        "f.close()\n",
        "\n",
        "\n"
      ],
      "execution_count": 0,
      "outputs": []
    },
    {
      "cell_type": "code",
      "metadata": {
        "id": "_7WSHWpOnHxT",
        "colab_type": "code",
        "colab": {}
      },
      "source": [
        "b = open(\"abc1.txt\",\"w\")\n",
        "b.write(\"AAA\")\n",
        "b.write(\"\\n\")\n",
        "b.write(\"BBB\")\n",
        "b.write(\"\\n\")\n",
        "b.write(\"CCC\")\n",
        "b.write(\"\\n\")\n",
        "b.write(\"DDD\")\n",
        "b.write(\"\\n\")\n",
        "b.write(\"EEE\")\n",
        "b.write(\"\\n\")\n",
        "b.close()\n",
        "\n",
        "b = open(\"abc1.txt\",\"r\")\n",
        "lines = b.readlines()    # 모든 라인을 읽음\n",
        "\n",
        "lines.reverse()\n",
        "\n",
        "b = open('abc1.txt', 'w')\n",
        "for line in lines:\n",
        "    line = line.strip()  # 포함되어 있는 줄 바꿈 문자 제거\n",
        "    b.write(line)\n",
        "    b.write('\\n')        # 줄 바꿈 문자 삽입\n",
        "b.close()\n",
        "\n"
      ],
      "execution_count": 0,
      "outputs": []
    },
    {
      "cell_type": "markdown",
      "metadata": {
        "colab_type": "text",
        "id": "OcSDHHYkK6lZ"
      },
      "source": [
        "## Q9. 평균값 구하기\n",
        "> 다음과 같이 총 10줄로 이루어진 sample.txt 파일이 있다. sample.txt 파일의 숫자 값을 모두 읽어 총합과 평균 값을 구한 후 평균 값을 result.txt 파일에 쓰는 프로그램을 작성하시오.\n",
        "```\n",
        "70\n",
        "60\n",
        "55\n",
        "75\n",
        "95\n",
        "90\n",
        "80\n",
        "80\n",
        "85\n",
        "100\n",
        "```\n"
      ]
    },
    {
      "cell_type": "code",
      "metadata": {
        "colab_type": "code",
        "id": "GmaaVGqrK6le",
        "colab": {}
      },
      "source": [
        "# [Q9] Code-1\n",
        "\n",
        "f = open(\"sample.txt\")\n",
        "lines = f.readlines( )  # sample.txt를 줄 단위로 모두 읽는다.\n",
        "f.close( )\n",
        "\n",
        "total = 0\n",
        "for line in lines:\n",
        "    score = int(line)  # 줄에 적힌 점수를 숫자형으로 변환한다.\n",
        "    total += score\n",
        "average = total / len(lines)\n",
        "\n",
        "f = open(\"result.txt\", \"w\")\n",
        "f.write(str(average))\n",
        "f.close()\n"
      ],
      "execution_count": 0,
      "outputs": []
    },
    {
      "cell_type": "code",
      "metadata": {
        "id": "pl4B_B12OERp",
        "colab_type": "code",
        "colab": {}
      },
      "source": [
        "f=open('sample.txt' , 'r')\n",
        "lines=f.readlines()\n",
        "f.close()\n",
        "result=0\n",
        "for score in lines:\n",
        "  result+=int(score)\n",
        "\n",
        "f=open('result.txt','w')\n",
        "f.write(str(result/len(lines)))\n",
        "f.close()"
      ],
      "execution_count": 0,
      "outputs": []
    },
    {
      "cell_type": "markdown",
      "metadata": {
        "colab_type": "text",
        "id": "anwB_DjuK60j"
      },
      "source": [
        "## Q10. 사칙연산 계산기\n",
        "> 다음과 같이 동작하는 클래스 Calculator를 작성하시오.\n",
        "```\n",
        ">>> cal1 = Calculator([1,2,3,4,5])\n",
        ">>> cal1.sum() # 합계\n",
        "15\n",
        ">>> cal1.avg() # 평균\n",
        "3.0\n",
        ">>> cal2 = Calculator([6,7,8,9,10])\n",
        ">>> cal2.sum() # 합계\n",
        "40\n",
        ">>> cal2.avg() # 평균\n",
        "8.0\n",
        "```\n"
      ]
    },
    {
      "cell_type": "code",
      "metadata": {
        "colab_type": "code",
        "id": "QJTNoSqtMrIM",
        "outputId": "fdbd4473-5402-40dc-e9f6-fb2caee206dc",
        "colab": {
          "base_uri": "https://localhost:8080/",
          "height": 89
        }
      },
      "source": [
        "# [Q10] Code-1\n",
        "\n",
        "class Calculator:\n",
        "    def __init__ (self, numberList): \n",
        "        self.numberList = numberList\n",
        "\n",
        "    def add(self): \n",
        "        result = 0\n",
        "        for num in self.numberList: \n",
        "            result += num\n",
        "        return result\n",
        "\n",
        "    def avg(self):\n",
        "        total = self.add()\n",
        "        return total / len(self.numberList)\n",
        "\n",
        "cal1 = Calculator([1,2,3,4,5]) \n",
        "print (cal1.add())\n",
        "print (cal1.avg())\n",
        "\n",
        "cal2 = Calculator([6,7,8,9,10]) \n",
        "print (cal2.add())\n",
        "print (cal2.avg())\n"
      ],
      "execution_count": 0,
      "outputs": [
        {
          "output_type": "stream",
          "text": [
            "15\n",
            "3.0\n",
            "40\n",
            "8.0\n"
          ],
          "name": "stdout"
        }
      ]
    },
    {
      "cell_type": "code",
      "metadata": {
        "colab_type": "code",
        "id": "91hia3WgH2gW",
        "outputId": "a57d2c2b-006e-4afb-ef3f-127039908c8a",
        "colab": {
          "base_uri": "https://localhost:8080/",
          "height": 89
        }
      },
      "source": [
        "# [Q10] Code-2\n",
        "class Calculator:\n",
        "    def __init__(self,value):\n",
        "        self.value = value\n",
        " \n",
        "    def add(self):\n",
        "        result = 0\n",
        "        for num in self.value: \n",
        "            result += num\n",
        "        return result\n",
        "\n",
        "class UpgradeCalculator(Calculator):#Calculator를 상속받음\n",
        "    def avg(self):\n",
        "        total = self.add()\n",
        "        return total / len(self.value)\n",
        "\n",
        "cal1 = UpgradeCalculator([1,2,3,4,5])\n",
        "print(cal1.add())\n",
        "print(cal1.avg())\n",
        "\n",
        "cal2=UpgradeCalculator([6,7,8,9,10])\n",
        "print(cal2.add())\n",
        "print(cal2.avg())\n",
        "\n",
        "\n",
        "\n",
        "\n"
      ],
      "execution_count": 0,
      "outputs": [
        {
          "output_type": "stream",
          "text": [
            "15\n",
            "3.0\n",
            "40\n",
            "8.0\n"
          ],
          "name": "stdout"
        }
      ]
    },
    {
      "cell_type": "markdown",
      "metadata": {
        "id": "gNnjBaJvH_51",
        "colab_type": "text"
      },
      "source": [
        "\n",
        "\n",
        "---\n",
        "\n",
        "\n"
      ]
    },
    {
      "cell_type": "markdown",
      "metadata": {
        "colab_type": "text",
        "id": "8xQf6xJ4K7M_"
      },
      "source": [
        "## Q11. 모듈 사용 방법\n",
        "> ./doit 디렉터리에 mymod.py 파이썬 모듈이 있다고 가정해 보자. 명령 프롬프트 창에서 파이썬 셸을 열어 이 모듈을 import해서 사용할 수 있는 방법을 모두 기술하시오. (즉 다음과 같이 import mymod를 수행할 때 오류가 없어야 한다.)\n",
        "```\n",
        ">>> import mymod\n",
        ">>>\n",
        "```"
      ]
    },
    {
      "cell_type": "code",
      "metadata": {
        "colab_type": "code",
        "id": "4zv7LXPjJiCH",
        "colab": {}
      },
      "source": [
        "!mkdir doit\n",
        "# 실행 후 새로 고침!\n",
        "# mymod.py 를 업로드한다."
      ],
      "execution_count": 0,
      "outputs": []
    },
    {
      "cell_type": "code",
      "metadata": {
        "colab_type": "code",
        "id": "JA_3n4g8JiB7",
        "colab": {}
      },
      "source": [
        "!mv mymod.py ./doit\n",
        "# 실행 후 새로 고침!"
      ],
      "execution_count": 0,
      "outputs": []
    },
    {
      "cell_type": "code",
      "metadata": {
        "colab_type": "code",
        "id": "UCO7aRh5Msx6",
        "colab": {}
      },
      "source": [
        "# [Q11] Code-1 sys 모듈 사용하기\n",
        "\n",
        "#다음과 같이 sys.path 에 C:\\doit 이라는 디렉터리를 추가하면\n",
        "# C:\\doit 이라는 디렉터리에 있는 mymod 모듈을 사용할 수 있게 된다.\n",
        "\n",
        "import sys\n",
        "sys.path.append(\"c:/doit\")\n",
        "import mymod\n"
      ],
      "execution_count": 0,
      "outputs": []
    },
    {
      "cell_type": "code",
      "metadata": {
        "colab_type": "code",
        "id": "aX_wLb53IgUl",
        "colab": {}
      },
      "source": [
        "# [Q11] Code-2 PYTHONPATH 환경 변수 사용하기\n",
        "\n",
        "#다음처럼 PYTHONPATH 환경 변수에 C:\\doit 디렉터리를 지정하면 \n",
        "#C:\\doit 디렉터리에 있는 mymod 모듈을 사용할 수 있게 된다\n",
        "\n",
        "C:\\Users\\home>set PYTHONPATH=c:\\doit\n",
        "C:\\Users\\home>python\n",
        "import mymod\n"
      ],
      "execution_count": 0,
      "outputs": []
    },
    {
      "cell_type": "code",
      "metadata": {
        "id": "3TGrk7K8QSfw",
        "colab_type": "code",
        "colab": {}
      },
      "source": [
        "# 현재 디렉터리 사용하기\n",
        "#파이썬 셸을 mymod.py가 있는 위치로 이동하여 실행해도 mymod 모듈을 사용할 수 있게 된다.\n",
        "# 왜냐하면 sys.path 에는 현재 디렉터리인 . 이 항상 포함되어 있기 때문이다.\n",
        "\n",
        "C:\\Users\\home>cd c:\\doit\n",
        "C:\\doit>python\n",
        "import mymod"
      ],
      "execution_count": 0,
      "outputs": []
    },
    {
      "cell_type": "markdown",
      "metadata": {
        "colab_type": "text",
        "id": "Q6QYCZ9HM3DW"
      },
      "source": [
        "## Q12. 오류와 예외 처리\n",
        "> 다음 코드의 실행 결과를 예측하고 그 이유에 대해 설명하시오.\n",
        "\n",
        "```\n",
        "result = 0\n",
        "\n",
        "try:\n",
        "    [1, 2, 3][3]\n",
        "    \"a\"+1\n",
        "    4 / 0\n",
        "except TypeError:\n",
        "    result += 1\n",
        "except ZeroDivisionError:\n",
        "    result += 2\n",
        "except IndexError:\n",
        "    result += 3\n",
        "finally:\n",
        "    result += 4\n",
        "\n",
        "print(result)\n",
        "```\n"
      ]
    },
    {
      "cell_type": "code",
      "metadata": {
        "id": "hDf0Js4KLOrl",
        "colab_type": "code",
        "outputId": "6c3d9364-a3ed-4dd2-b89c-01034b4259a8",
        "colab": {
          "base_uri": "https://localhost:8080/",
          "height": 35
        }
      },
      "source": [
        "# [Q12] Explain (코드와 주석으로 설명하시오)\n",
        "\n",
        "result = 0\n",
        " \n",
        "try:\n",
        "    [1, 2, 3][3]\n",
        "    \"a\"+1\n",
        "    4 / 0\n",
        "except TypeError:\n",
        "    result += 1\n",
        "except ZeroDivisionError:\n",
        "    result += 2\n",
        "except IndexError:\n",
        "    result += 3\n",
        "finally:\n",
        "    result += 4\n",
        " \n",
        "print(result)\n",
        "\n",
        "\n",
        "# result의 초깃값은 0이다.\n",
        "#try문 안의 [1, 2, 3][3] 이라는 문장 수행 시 IndexError가 발생하여 except IndexError: 구문으로 이동하게 되어 result에 3이 더해져 3이 된다.\n",
        "#최종적으로 finally 구문이 실행되어 result에 4가 더해져 7이 된다.\n",
        "#print(result)가 수행되어 result의 최종 값인 7이 출력된다.\n"
      ],
      "execution_count": 0,
      "outputs": [
        {
          "output_type": "stream",
          "text": [
            "7\n"
          ],
          "name": "stdout"
        }
      ]
    },
    {
      "cell_type": "markdown",
      "metadata": {
        "colab_type": "text",
        "id": "x2IYgozSM3gd"
      },
      "source": [
        "## Q13. DashInsert 함수\n",
        "> DashInsert 함수는 숫자로 구성된 문자열을 입력받은 뒤 문자열 안에서 홀수가 연속되면 두 수 사이에 - 를 추가하고, 짝수가 연속되면 * 를 추가하는 기능을 갖고 있다. DashInsert 함수를 완성하시오.\n",
        "```\n",
        "입력 예시: 4546793\n",
        "출력 예시: 454*67-9-3\n",
        "```\n"
      ]
    },
    {
      "cell_type": "code",
      "metadata": {
        "colab_type": "code",
        "id": "FiKNOu9HM3DX",
        "outputId": "bbc4ad89-71f4-4e56-c957-f9d2562add8c",
        "colab": {
          "base_uri": "https://localhost:8080/",
          "height": 35
        }
      },
      "source": [
        "# [Q13] Code-1\n",
        "data = \"4546793\"\n",
        "numbers = list(map(int, data))   # 숫자 문자열을 숫자 리스트로 변경\n",
        "result = []\n",
        "\n",
        "for i, num in enumerate(numbers):\n",
        "    result.append(str(num))\n",
        "    if i < len(numbers)-1:                   # 다음 수가 있다면\n",
        "        is_odd = num % 2 == 1                # 현재 수가 홀수\n",
        "        is_next_odd = numbers[i+1] % 2 == 1  # 다음 수가 홀수\n",
        "        if is_odd and is_next_odd:           # 연속 홀수\n",
        "            result.append(\"-\")\n",
        "        elif not is_odd and not is_next_odd: # 연속 짝수\n",
        "            result.append(\"*\")\n",
        "\n",
        "print(\"\".join(result))\n"
      ],
      "execution_count": 0,
      "outputs": [
        {
          "output_type": "stream",
          "text": [
            "454*67-9-3\n"
          ],
          "name": "stdout"
        }
      ]
    },
    {
      "cell_type": "code",
      "metadata": {
        "colab_type": "code",
        "id": "d_hmy1RZLqBg",
        "outputId": "cc8e7cd6-96f1-4067-be92-f9c820c53c0f",
        "colab": {
          "base_uri": "https://localhost:8080/",
          "height": 35
        }
      },
      "source": [
        "# [Q13] Code-2\n",
        "\n",
        "def dhin(num):\n",
        "    result=list(num)\n",
        "    result.append('0')\n",
        "    odd=['1','3','5','7','9','-1','-3','-5','-7','-9']\n",
        "    even=['2','4','6','8','*2','*4','*6','*8']\n",
        "    m=0\n",
        "    for i in result:\n",
        "        m=m+1\n",
        "        if i != result[len(result)-1]:\n",
        "            if i in even and result[m] in even:\n",
        "                result[m]='*'+result[m]\n",
        "            if i in odd and result[m] in odd:\n",
        "                result[m]='-'+result[m]\n",
        "            else:\n",
        "                pass\n",
        "    result.pop(-1)\n",
        "    for u in result:\n",
        "        result1=print(u,end='')\n",
        "    return result1\n",
        "print(dhin(\"4546793\"))\n",
        "\n"
      ],
      "execution_count": 0,
      "outputs": [
        {
          "output_type": "stream",
          "text": [
            "454*67-9-3None\n"
          ],
          "name": "stdout"
        }
      ]
    },
    {
      "cell_type": "code",
      "metadata": {
        "id": "obd1jWN_Infx",
        "colab_type": "code",
        "outputId": "4fc72ac9-0948-44f0-8c54-cd1d31b2baf2",
        "colab": {
          "base_uri": "https://localhost:8080/",
          "height": 53
        }
      },
      "source": [
        "in_str = input(\"Enter numbers: \") # 입력이 4546793 이면 in_str = '4546793'\n",
        "\n",
        "result = in_str[0]\n",
        "for a,b in zip(in_str[0:], in_str[1:]): # zip()으로 묶인 튜플은 ('4','5'),('5','4'),('4','6'),('6','7'),('7','9'),('9','3')\n",
        "    if int(a)%2 == 0 and int(b)%2 == 0:\n",
        "        result += '*' + b\n",
        "    elif int(a)%2 == 1 and int(b)%2 == 1:\n",
        "        result += '-' + b\n",
        "    else:\n",
        "        result += b\n",
        "\n",
        "print(result)\n"
      ],
      "execution_count": 0,
      "outputs": [
        {
          "output_type": "stream",
          "text": [
            "Enter numbers: 4546793\n",
            "454*67-9-3\n"
          ],
          "name": "stdout"
        }
      ]
    },
    {
      "cell_type": "code",
      "metadata": {
        "id": "wtdSQXfrIvwI",
        "colab_type": "code",
        "outputId": "e17e7744-2ac9-4d14-f6ba-931616acda77",
        "colab": {
          "base_uri": "https://localhost:8080/",
          "height": 53
        }
      },
      "source": [
        "i = list(map(int,' '.join(input()).split()))\n",
        "answer = [str(i[0])]\n",
        "for x in range(len(i)-1):\n",
        "    if i[x]%2==0 and i[x+1]%2==0:\n",
        "        answer.append('*')\n",
        "    if i[x]%2==1 and i[x+1]%2==1:\n",
        "        answer.append('-')\n",
        "    answer.append(str(i[x+1]))\n",
        "print(''.join(answer))"
      ],
      "execution_count": 0,
      "outputs": [
        {
          "output_type": "stream",
          "text": [
            "4546793\n",
            "454*67-9-3\n"
          ],
          "name": "stdout"
        }
      ]
    },
    {
      "cell_type": "code",
      "metadata": {
        "id": "kLKN1W-wI3kJ",
        "colab_type": "code",
        "outputId": "ee9e8890-fffd-4b52-fc76-17e1637c2214",
        "colab": {
          "base_uri": "https://localhost:8080/",
          "height": 35
        }
      },
      "source": [
        "a=\"4546793\"\n",
        "b=[]\n",
        "\n",
        "for i in range(0,len(a)-1):\n",
        "    if (int(a[i])%2==0 and int(a[i+1])%2==0) : #짝수연속\n",
        "        b.append(a[i]+\"*\")\n",
        "\n",
        "\n",
        "    elif (int(a[i])%2==1 and int(a[i+1])%2==1) : #홀수연속\n",
        "        b.append(a[i]+\"-\")\n",
        "\n",
        "    else :\n",
        "        b.append(a[i])\n",
        "\n",
        "print(\"\".join(b)+a[len(a)-1])\n"
      ],
      "execution_count": 0,
      "outputs": [
        {
          "output_type": "stream",
          "text": [
            "454*67-9-3\n"
          ],
          "name": "stdout"
        }
      ]
    },
    {
      "cell_type": "markdown",
      "metadata": {
        "colab_type": "text",
        "id": "HDbz71sNL2Qt"
      },
      "source": [
        "## Q14. 문자열 압축하기\n",
        "> 문자열을 입력받아 같은 문자가 연속적으로 반복되는 경우에 그 반복 횟수를 표시해 문자열을 압축하여 표시하시오.\n",
        "```\n",
        "입력 예시: aaabbcccccca\n",
        "출력 예시: a3b2c6a1\n",
        "```\n",
        "\n"
      ]
    },
    {
      "cell_type": "code",
      "metadata": {
        "colab_type": "code",
        "id": "Hs88sVjjL2Qw",
        "outputId": "d24d3bfd-c8f1-4694-fdc7-13f7729c2f3a",
        "colab": {
          "base_uri": "https://localhost:8080/",
          "height": 35
        }
      },
      "source": [
        "# [Q14] Code-1\n",
        "\n",
        "def compress_string(s):\n",
        "    _c = \"\"\n",
        "    cnt = 0\n",
        "    result = \"\"\n",
        "    for c in s:\n",
        "        if c!=_c:\n",
        "            _c = c\n",
        "            if cnt: result += str(cnt)\n",
        "            result += c\n",
        "            cnt = 1\n",
        "        else:\n",
        "            cnt +=1\n",
        "    if cnt: result += str(cnt)\n",
        "    return result\n",
        "\n",
        "print (compress_string(\"aaabbcccccca\"))  # a3b2c6a1 출력"
      ],
      "execution_count": 0,
      "outputs": [
        {
          "output_type": "stream",
          "text": [
            "a3b2c6a1\n"
          ],
          "name": "stdout"
        }
      ]
    },
    {
      "cell_type": "code",
      "metadata": {
        "colab_type": "code",
        "id": "XF4F0DW0L2Q1",
        "outputId": "86b7139c-c892-423d-b500-22fea72a802f",
        "colab": {
          "base_uri": "https://localhost:8080/",
          "height": 53
        }
      },
      "source": [
        "# [Q14] Code-2\n",
        "s=input('압축할 문자열 : ')\n",
        "k=0\n",
        "while s[k:]!='':\n",
        "    if k+1>=len(s):\n",
        "        break\n",
        "    if s[k]!=s[k+1]:\n",
        "        s=s[:k+1]+'/'+s[k+1:]\n",
        "        k+=2\n",
        "    else:\n",
        "        k+=1\n",
        "s=s.split('/')\n",
        "\n",
        "converted=''\n",
        "for k in range(len(s)):\n",
        "    converted+=s[k][0]+str(len(s[k]))\n",
        "print(converted)\n"
      ],
      "execution_count": 0,
      "outputs": [
        {
          "output_type": "stream",
          "text": [
            "압축할 문자열 : abcabcabc\n",
            "a1b1c1a1b1c1a1b1c1\n"
          ],
          "name": "stdout"
        }
      ]
    },
    {
      "cell_type": "code",
      "metadata": {
        "id": "Kb-d6xG6Jgnk",
        "colab_type": "code",
        "outputId": "022b0c74-4885-40cb-a351-1a6f3b32c4a2",
        "colab": {
          "base_uri": "https://localhost:8080/",
          "height": 35
        }
      },
      "source": [
        "a=list(\"abcdefg\")\n",
        "a_length=len(a)\n",
        "b=[]\n",
        "stk=1\n",
        "while 1 :\n",
        "    if a_length > 1 :\n",
        "        if a[0] == a[1] : \n",
        "            a.remove(a[0])\n",
        "            stk+=1\n",
        "            a_length-=1\n",
        "            continue\n",
        "        elif a[0] != a[1] : \n",
        "            b=b+[a[0]]+[\"%d\"%stk]\n",
        "            a.remove(a[0])\n",
        "            stk=1\n",
        "            a_length-=1\n",
        "            continue\n",
        "    b=b+[a[0]]+[\"%d\"%stk]\n",
        "    break\n",
        "for i in b:\n",
        "    print(i,end=\"\")"
      ],
      "execution_count": 0,
      "outputs": [
        {
          "output_type": "stream",
          "text": [
            "a1b1c1d1e1f1g1"
          ],
          "name": "stdout"
        }
      ]
    },
    {
      "cell_type": "markdown",
      "metadata": {
        "colab_type": "text",
        "id": "tCF274jtL3Vk"
      },
      "source": [
        "## Q15. Duplicate Numbers\n",
        "> 0 ~ 9의 문자로 된 숫자를 입력받았을 때, 이 입력값이 0 ~ 9의 모든 숫자를 각각 한 번씩만 사용한 것인지 확인하는 함수를 작성하시오.\n",
        "```\n",
        "입력 예시: 0123456789 01234 01234567890 6789012345 012322456789\n",
        "출력 예시: true false false true false\n",
        "```\n"
      ]
    },
    {
      "cell_type": "code",
      "metadata": {
        "colab_type": "code",
        "id": "3uQFw6jGL3Vm",
        "outputId": "0d7a9a71-7ab2-4348-d27b-bd8c0f71db24",
        "colab": {
          "base_uri": "https://localhost:8080/",
          "height": 107
        }
      },
      "source": [
        "# [Q15] Code-1\n",
        "\n",
        "def chkDupNum(s):\n",
        "    result = []\n",
        "    for num in s:\n",
        "        if num not in result:\n",
        "            result.append(num)\n",
        "        else:\n",
        "            return False\n",
        "    return len(result) == 10\n",
        "\n",
        "print(chkDupNum(\"0123456789\"))      # True 리턴\n",
        "print(chkDupNum(\"01234\"))           # False 리턴\n",
        "print(chkDupNum(\"01234567890\"))     # False 리턴\n",
        "print(chkDupNum(\"6789012345\"))      # True 리턴\n",
        "print(chkDupNum(\"012322456789\"))    # False 리턴"
      ],
      "execution_count": 0,
      "outputs": [
        {
          "output_type": "stream",
          "text": [
            "True\n",
            "False\n",
            "False\n",
            "True\n",
            "False\n"
          ],
          "name": "stdout"
        }
      ]
    },
    {
      "cell_type": "code",
      "metadata": {
        "colab_type": "code",
        "id": "Bdt_UGgZL3Vr",
        "outputId": "a59df881-d768-4bca-d55c-6c743eab9b76",
        "colab": {
          "base_uri": "https://localhost:8080/",
          "height": 107
        }
      },
      "source": [
        "# [Q15] Code-2\n",
        "def sample_inputs(str_a):\n",
        "    list_a=str_a.split()\n",
        "    for i in list_a :\n",
        "        if list(\"\".join(i)).count(\"0\") == 1:\n",
        "            if eval(\"+\".join(i))==45:\n",
        "                print(\"True\")\n",
        "            else :\n",
        "                print(\"False!\")\n",
        "        else :\n",
        "            print(\"False!\")\n",
        "\n",
        "sample_inputs(\"0123456789 01234 01234567890 6789012345 012322456789\")\n"
      ],
      "execution_count": 0,
      "outputs": [
        {
          "output_type": "stream",
          "text": [
            "True\n",
            "False!\n",
            "False!\n",
            "True\n",
            "False!\n"
          ],
          "name": "stdout"
        }
      ]
    },
    {
      "cell_type": "code",
      "metadata": {
        "id": "9-Ie-64YJy5_",
        "colab_type": "code",
        "outputId": "4ea099ab-de6c-42b8-dd94-2f5a40dcbd47",
        "colab": {
          "base_uri": "https://localhost:8080/",
          "height": 107
        }
      },
      "source": [
        "def check_one_number(num):\n",
        "    for i in range(10):\n",
        "        if num.count(str(i)) != 1:\n",
        "            print(\"False\")\n",
        "            return\n",
        "\n",
        "    print(\"True\")\n",
        "\n",
        "check_one_number('6789012345')\n",
        "check_one_number('01234')\n",
        "check_one_number('0123456789 ')\n",
        "check_one_number('01234567890 ')\n",
        "check_one_number('012322456789')"
      ],
      "execution_count": 0,
      "outputs": [
        {
          "output_type": "stream",
          "text": [
            "True\n",
            "False\n",
            "True\n",
            "False\n",
            "False\n"
          ],
          "name": "stdout"
        }
      ]
    },
    {
      "cell_type": "code",
      "metadata": {
        "id": "PIB2SqnMKYWR",
        "colab_type": "code",
        "outputId": "449687ca-fb60-48ef-b7f1-50be3efcff70",
        "colab": {
          "base_uri": "https://localhost:8080/",
          "height": 53
        }
      },
      "source": [
        "exStr = input(\"0~9로 이루어진 숫자를 입력하세요 : \")\n",
        "settedStr = set(exStr)\n",
        "\n",
        "if len(exStr) == len(settedStr) :\n",
        "        print('중복미존재')\n",
        "else :\n",
        "        print('중복존재')"
      ],
      "execution_count": 0,
      "outputs": [
        {
          "output_type": "stream",
          "text": [
            "0~9로 이루어진 숫자를 입력하세요 : 123456\n",
            "중복미존재\n"
          ],
          "name": "stdout"
        }
      ]
    },
    {
      "cell_type": "code",
      "metadata": {
        "id": "9R2KFJZUK-tv",
        "colab_type": "code",
        "outputId": "6ced3577-fd1f-4484-b6a4-35abf3b63cda",
        "colab": {
          "base_uri": "https://localhost:8080/",
          "height": 35
        }
      },
      "source": [
        "print (list(map(lambda n:len(set(n))==10 and len(n) ==10 ,\"0123456789 01234 01234567890 6789012345 012322456789\".split()))) "
      ],
      "execution_count": 0,
      "outputs": [
        {
          "output_type": "stream",
          "text": [
            "[True, False, False, True, False]\n"
          ],
          "name": "stdout"
        }
      ]
    },
    {
      "cell_type": "markdown",
      "metadata": {
        "colab_type": "text",
        "id": "QdPWKi1gL4UE"
      },
      "source": [
        "## Q16. 모스 부호 해독\n",
        "> 문자열 형식으로 입력받은 모스 부호(dot:. dash:-)를 해독하여 영어 문장으로 출력하는 프로그램을 작성하시오.\n",
        "\n",
        "- 글자와 글자 사이는 공백 1개, 단어와 단어 사이는 공백 2개로 구분한다.\n",
        "- 예를 들어 다음 모스 부호는 \"HE SLEEPS EARLY\"로 해석해야 한다.\n",
        "```\n",
        ".... .  ... .-.. . . .--. ...  . .- .-. .-.. -.--\n",
        "```\n",
        "> 모스부호 규칙 표\n",
        "```\n",
        "문자 부호\t문자   부호\n",
        "A\t .-\t    N\t    -.\n",
        "B\t -...\tO\t    ---\n",
        "C\t -.-.\tP\t    .--.\n",
        "D\t -..\tQ\t    --.-\n",
        "E\t .\t    R\t    .-.\n",
        "F\t ..-.\tS\t    ...\n",
        "G\t --.\tT\t    -\n",
        "H\t ....\tU\t    ..-\n",
        "I\t ..\t    V\t    ...-\n",
        "J\t .---\tW\t    .--\n",
        "K\t -.-\tX\t    -..-\n",
        "L\t .-..\tY\t    -.--\n",
        "M\t --\t    Z\t    --..\n",
        "```"
      ]
    },
    {
      "cell_type": "code",
      "metadata": {
        "colab_type": "code",
        "id": "ciZbyRFrL4UF",
        "outputId": "c53b5db7-065a-49a1-b0cc-7fa0d9d42f5f",
        "colab": {
          "base_uri": "https://localhost:8080/",
          "height": 35
        }
      },
      "source": [
        "# [Q16] Code-1\n",
        "\n",
        "dic = {\n",
        "    '.-':'A','-...':'B','-.-.':'C','-..':'D','.':'E','..-.':'F',\n",
        "    '--.':'G','....':'H','..':'I','.---':'J','-.-':'K','.-..':'L',\n",
        "    '--':'M','-.':'N','---':'O','.--.':'P','--.-':'Q','.-.':'R',\n",
        "    '...':'S','-':'T','..-':'U','...-':'V','.--':'W','-..-':'X',\n",
        "    '-.--':'Y','--..':'Z'\n",
        "}\n",
        "\n",
        "def morse(src):\n",
        "    result = []\n",
        "    for word in src.split(\"  \"):\n",
        "        for char in word.split(\" \"):\n",
        "            result.append(dic[char])\n",
        "        result.append(\" \")\n",
        "    return \"\".join(result)\n",
        "\n",
        "\n",
        "print(morse('.... .  ... .-.. . . .--. ...  . .- .-. .-.. -.--'))"
      ],
      "execution_count": 0,
      "outputs": [
        {
          "output_type": "stream",
          "text": [
            "HE SLEEPS EARLY \n"
          ],
          "name": "stdout"
        }
      ]
    },
    {
      "cell_type": "code",
      "metadata": {
        "colab_type": "code",
        "id": "x9-Qq3mVL4UJ",
        "outputId": "a588ad9a-b828-4898-e5b0-09cb6fee2d9c",
        "colab": {
          "base_uri": "https://localhost:8080/",
          "height": 35
        }
      },
      "source": [
        "# [Q16] Code-2\n",
        "dic={'':' ','.-':'A','-...':'B','-.-.':'C','-..':'D','.':'E','..-.':'F','--.':'G','....':'H','..':'I','.---':'J','-.-':'K','.-..':'L','--':'M','-.':'N','---':'O','.--.':'P','--.-':'Q','.-.':'R','...':'S','-':'T','..-':'U','...-':'V','.--':'W','-..-':'X','-.--':'Y','--..':'Z'}\n",
        "morse=\".... .  ... .-.. . . .--. ...  . .- .-. .-.. -.--\"\n",
        "word=morse.split(\" \")\n",
        "for i in word:\n",
        "    print(dic[i],end=\"\")\n"
      ],
      "execution_count": 0,
      "outputs": [
        {
          "output_type": "stream",
          "text": [
            "HE SLEEPS EARLY"
          ],
          "name": "stdout"
        }
      ]
    },
    {
      "cell_type": "code",
      "metadata": {
        "id": "Rm-9dfmbLW5m",
        "colab_type": "code",
        "outputId": "6d3d5d84-01e6-4afb-c07c-04e015b7db37",
        "colab": {
          "base_uri": "https://localhost:8080/",
          "height": 35
        }
      },
      "source": [
        "dic = {'.-':'A','-...':'B','-.-.':'C','-..':'D','.':'E','..-.':'F','--.':'G','....':'H','..':'I','.---':'J','-.-':'K','.-..':'L','--':'M','-.':'N','---':'O','.--.':'P','--.-':'Q','.-.':'R','...':'S','-':'T','..-':'U','...-':'V', '.--':'W','-..-':'X','-.--':'Y','--..':'Z'}\n",
        "\n",
        "def decipher(morse):\n",
        "    ans = \"\"\n",
        "    sent = morse.split(\" \")\n",
        "    for c in sent:\n",
        "        if c != '':\n",
        "            ans += dic[c]\n",
        "        else :\n",
        "            ans += \" \"\n",
        "    return ans\n",
        "\n",
        "morse = '.... .  ... .-.. . . .--. ...  . .- .-. .-.. -.--'\n",
        "\n",
        "print (decipher(morse))\n"
      ],
      "execution_count": 0,
      "outputs": [
        {
          "output_type": "stream",
          "text": [
            "HE SLEEPS EARLY\n"
          ],
          "name": "stdout"
        }
      ]
    },
    {
      "cell_type": "markdown",
      "metadata": {
        "id": "om4sRiRhMosn",
        "colab_type": "text"
      },
      "source": [
        "\n",
        "\n",
        "---\n",
        "\n",
        "# 다음 정규식 문제는 기말고사 후에 도전해 보세요."
      ]
    },
    {
      "cell_type": "markdown",
      "metadata": {
        "id": "nazB2KXYOm5R",
        "colab_type": "text"
      },
      "source": [
        "## Regular Expression\n",
        "- import re"
      ]
    },
    {
      "cell_type": "markdown",
      "metadata": {
        "colab_type": "text",
        "id": "AN8kEO30L5NE"
      },
      "source": [
        "## Q17. 기초 메타 문자\n",
        "> 다음 중 정규식 a[.]{3,}b과 매치되는 문자열은 무엇일까?\n",
        "\n",
        "\n",
        "```\n",
        "acccb\n",
        "a....b\n",
        "aaab\n",
        "a.cccb\n",
        "```\n"
      ]
    },
    {
      "cell_type": "code",
      "metadata": {
        "colab_type": "code",
        "id": "uKQWoUqhL5NG",
        "outputId": "ca3c302c-6734-43d8-9dc1-2f3493f115e8",
        "colab": {
          "base_uri": "https://localhost:8080/",
          "height": 89
        }
      },
      "source": [
        "# [Q17] Code\n",
        "import re\n",
        "\n",
        "p = re.compile(\"a[.]{3,}b\")\n",
        "\n",
        "print (p.match(\"acccb\"))    # None\n",
        "print (p.match(\"a....b\"))   # 매치 객체 출력\n",
        "print (p.match(\"aaab\"))     # None\n",
        "print (p.match(\"a.cccb\"))   # None\n"
      ],
      "execution_count": 0,
      "outputs": [
        {
          "output_type": "stream",
          "text": [
            "None\n",
            "<_sre.SRE_Match object; span=(0, 6), match='a....b'>\n",
            "None\n",
            "None\n"
          ],
          "name": "stdout"
        }
      ]
    },
    {
      "cell_type": "markdown",
      "metadata": {
        "colab_type": "text",
        "id": "0dEWfwATL6DE"
      },
      "source": [
        "## Q18. 문자열 검색\n",
        "> 다음 코드의 결괏값은 무엇일까?\n",
        "\n",
        "```\n",
        ">>> import re\n",
        ">>> p = re.compile(\"[a-z]+\")\n",
        ">>> m = p.search(\"5 python\")\n",
        ">>> m.start() + m.end()\n",
        "```\n"
      ]
    },
    {
      "cell_type": "code",
      "metadata": {
        "colab_type": "code",
        "id": "Ip11Dmo7L6DH",
        "outputId": "ae6373b5-09e1-4b71-d389-4bb89202c9de",
        "colab": {
          "base_uri": "https://localhost:8080/",
          "height": 35
        }
      },
      "source": [
        "# [Q18] Code\n",
        "\n",
        "import re\n",
        "\n",
        "p = re.compile('[a-z]+')\n",
        "m = p.search(\"5 python\")\n",
        "print(m.start() + m.end())  # 10 출력"
      ],
      "execution_count": 0,
      "outputs": [
        {
          "output_type": "stream",
          "text": [
            "10\n"
          ],
          "name": "stdout"
        }
      ]
    },
    {
      "cell_type": "markdown",
      "metadata": {
        "colab_type": "text",
        "id": "8QizaqrUL62E"
      },
      "source": [
        "## Q19. 그루핑\n",
        "> 다음과 같은 문자열에서 휴대폰 번호 뒷자리인 숫자 4개를 ####로 바꾸는 프로그램을 정규식을 사용하여 작성하시오.\n",
        "\n",
        "```\n",
        "park 010-9999-9988\n",
        "kim 010-9909-7789\n",
        "lee 010-8789-7768\n",
        "```\n"
      ]
    },
    {
      "cell_type": "code",
      "metadata": {
        "colab_type": "code",
        "id": "bfRvchIlL62H",
        "outputId": "348476d1-8f58-410b-f1fb-9f4d0a995848",
        "colab": {
          "base_uri": "https://localhost:8080/",
          "height": 107
        }
      },
      "source": [
        "# [Q19] Code\n",
        "\n",
        "pat = re.compile(\"\\d{3}[-]\\d{4}[-]\\d{4}\")\n",
        "pat = re.compile(\"(\\d{3}[-]\\d{4})[-]\\d{4}\")\n",
        "\n",
        "import re\n",
        "\n",
        "s = \"\"\"\n",
        "park 010-9999-9988\n",
        "kim 010-9909-7789\n",
        "lee 010-8789-7768\n",
        "\"\"\"\n",
        "\n",
        "pat = re.compile(\"(\\d{3}[-]\\d{4})[-]\\d{4}\")\n",
        "result = pat.sub(\"\\g<1>-####\", s)\n",
        "\n",
        "print(result)"
      ],
      "execution_count": 0,
      "outputs": [
        {
          "output_type": "stream",
          "text": [
            "\n",
            "park 010-9999-####\n",
            "kim 010-9909-####\n",
            "lee 010-8789-####\n",
            "\n"
          ],
          "name": "stdout"
        }
      ]
    },
    {
      "cell_type": "markdown",
      "metadata": {
        "colab_type": "text",
        "id": "0DumiUQoL7jk"
      },
      "source": [
        "## Q20. 전방 탐색\n",
        "> 다음은 이메일 주소를 나타내는 정규식이다. 이 정규식은 park@naver.com, kim@daum.net, lee@myhome.co.kr 등과 매치된다. 긍정형 전방 탐색 기법을 사용하여 .com, .net이 아닌 이메일 주소는 제외시키는 정규식을 작성하시오.\n",
        "\n",
        "```\n",
        ".*[@].*[.].*$\n",
        "```\n"
      ]
    },
    {
      "cell_type": "code",
      "metadata": {
        "colab_type": "code",
        "id": "9S9UUOkFL7jl",
        "colab": {}
      },
      "source": [
        "# [Q20] Code\n",
        "\n",
        "pat = re.compile(\".*[@].*[.](?=com$|net$).*$\")\n"
      ],
      "execution_count": 0,
      "outputs": []
    },
    {
      "cell_type": "code",
      "metadata": {
        "id": "-XansUU_WNQp",
        "colab_type": "code",
        "outputId": "31c7cf8a-015d-4c1c-a076-8416937a7acc",
        "colab": {
          "base_uri": "https://localhost:8080/",
          "height": 71
        }
      },
      "source": [
        "import re\n",
        "\n",
        "pat = re.compile(\".*[@].*[.](?=com$|net$).*$\")\n",
        "\n",
        "print(pat.match(\"pahkey@gmail.com\"))\n",
        "print(pat.match(\"kim@daum.net\"))\n",
        "print(pat.match(\"lee@myhome.co.kr\"))"
      ],
      "execution_count": 0,
      "outputs": [
        {
          "output_type": "stream",
          "text": [
            "<_sre.SRE_Match object; span=(0, 16), match='pahkey@gmail.com'>\n",
            "<_sre.SRE_Match object; span=(0, 12), match='kim@daum.net'>\n",
            "None\n"
          ],
          "name": "stdout"
        }
      ]
    },
    {
      "cell_type": "markdown",
      "metadata": {
        "id": "2ljBDShkbqZO",
        "colab_type": "text"
      },
      "source": [
        "## 코딩 연습 결과를 github에 올리기\n",
        "> 완성된 ipython 노트북 파일을 각자의 github에 올리시오.\n",
        "\n",
        "- github 계정 만들기 (계정이 없는 학생)\n",
        "    1. github에 sign up (Google gmail 계정을 이용해서 만드시오.)\n",
        "- github에 노트 올리기\n",
        "    2. github에 각자의 id로 repo를 만드시오. (한번 만들면 계속 재사용)\n",
        "    3. github repo에 연습결과 노트를 올리시오.\n",
        "        - 제출노트: ch8_exercises_id.ipynb\n"
      ]
    },
    {
      "cell_type": "code",
      "metadata": {
        "id": "OnCR-YNCc8B6",
        "colab_type": "code",
        "colab": {}
      },
      "source": [
        ""
      ],
      "execution_count": 0,
      "outputs": []
    }
  ]
}