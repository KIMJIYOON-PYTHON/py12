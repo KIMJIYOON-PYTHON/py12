{
  "nbformat": 4,
  "nbformat_minor": 0,
  "metadata": {
    "colab": {
      "name": "ch6_exercises_py12.ipynb의 사본",
      "provenance": [],
      "collapsed_sections": [],
      "include_colab_link": true
    },
    "kernelspec": {
      "name": "python3",
      "display_name": "Python 3"
    }
  },
  "cells": [
    {
      "cell_type": "markdown",
      "metadata": {
        "id": "view-in-github",
        "colab_type": "text"
      },
      "source": [
        "<a href=\"https://colab.research.google.com/github/KIMJIYOON-PYTHON/py12/blob/master/ch6_exercises_py12.ipynb\" target=\"_parent\"><img src=\"https://colab.research.google.com/assets/colab-badge.svg\" alt=\"Open In Colab\"/></a>"
      ]
    },
    {
      "cell_type": "markdown",
      "metadata": {
        "colab_type": "text",
        "id": "re2-XrUYXF1m"
      },
      "source": [
        "## Q1.\n",
        ">내가 프로그램을 만들 수 있을까?\n",
        "\n",
        "▪ 구구단을 출력해보자.\n",
        "\n",
        "\n",
        "\n",
        "\n",
        "\n",
        "\n",
        "\n",
        "\n",
        "\n",
        "\n"
      ]
    },
    {
      "cell_type": "code",
      "metadata": {
        "colab_type": "code",
        "id": "Ybx00n1-KnrH",
        "outputId": "f66c7974-eb23-4f12-eba4-12eac2310cc7",
        "colab": {
          "base_uri": "https://localhost:8080/",
          "height": 35
        }
      },
      "source": [
        "\n",
        "def GuGu0(n):\n",
        "    result = []\n",
        "    result.append(n * 1)\n",
        "    result.append(n * 2)\n",
        "    result.append(n * 3)\n",
        "    result.append(n * 4)\n",
        "    result.append(n * 5)\n",
        "    result.append(n * 6)\n",
        "    result.append(n * 7)\n",
        "    result.append(n * 8)\n",
        "    result.append(n * 9)\n",
        "    return result\n",
        "\n",
        "print(GuGu0(2))"
      ],
      "execution_count": 0,
      "outputs": [
        {
          "output_type": "stream",
          "text": [
            "[2, 4, 6, 8, 10, 12, 14, 16, 18]\n"
          ],
          "name": "stdout"
        }
      ]
    },
    {
      "cell_type": "code",
      "metadata": {
        "id": "Z0A_69OzyLqS",
        "colab_type": "code",
        "colab": {}
      },
      "source": [
        "def GuGu(n):\n",
        "  result=[]\n",
        "  i=1\n",
        "  while i<10:\n",
        "    result.append(n*i)\n",
        "    i=i+1\n",
        "  return result"
      ],
      "execution_count": 0,
      "outputs": []
    },
    {
      "cell_type": "code",
      "metadata": {
        "id": "Vc92xpTsjcLl",
        "colab_type": "code",
        "outputId": "459323ce-033e-4921-fff8-6a6e68b54b8d",
        "colab": {
          "base_uri": "https://localhost:8080/",
          "height": 35
        }
      },
      "source": [
        "print(GuGu(4))\n"
      ],
      "execution_count": 0,
      "outputs": [
        {
          "output_type": "stream",
          "text": [
            "[4, 8, 12, 16, 20, 24, 28, 32, 36]\n"
          ],
          "name": "stdout"
        }
      ]
    },
    {
      "cell_type": "code",
      "metadata": {
        "id": "N7ou4TBejkyJ",
        "colab_type": "code",
        "outputId": "0d2967e0-44cc-41c5-b326-b7081f80241d",
        "colab": {
          "base_uri": "https://localhost:8080/",
          "height": 1000
        }
      },
      "source": [
        "for x in range(2, 10):\n",
        "    print(\"------- [\" + str(x) + \"단] -------\")\n",
        "    for y in range(1, 10):\n",
        "        print(x, \"X\", y, \"=\", x*y)\n",
        "print(\"---------------------\")"
      ],
      "execution_count": 0,
      "outputs": [
        {
          "output_type": "stream",
          "text": [
            "구구단을 출력합니다.\n",
            "\n",
            "------- [2단] -------\n",
            "2 X 1 = 2\n",
            "2 X 2 = 4\n",
            "2 X 3 = 6\n",
            "2 X 4 = 8\n",
            "2 X 5 = 10\n",
            "2 X 6 = 12\n",
            "2 X 7 = 14\n",
            "2 X 8 = 16\n",
            "2 X 9 = 18\n",
            "------- [3단] -------\n",
            "3 X 1 = 3\n",
            "3 X 2 = 6\n",
            "3 X 3 = 9\n",
            "3 X 4 = 12\n",
            "3 X 5 = 15\n",
            "3 X 6 = 18\n",
            "3 X 7 = 21\n",
            "3 X 8 = 24\n",
            "3 X 9 = 27\n",
            "------- [4단] -------\n",
            "4 X 1 = 4\n",
            "4 X 2 = 8\n",
            "4 X 3 = 12\n",
            "4 X 4 = 16\n",
            "4 X 5 = 20\n",
            "4 X 6 = 24\n",
            "4 X 7 = 28\n",
            "4 X 8 = 32\n",
            "4 X 9 = 36\n",
            "------- [5단] -------\n",
            "5 X 1 = 5\n",
            "5 X 2 = 10\n",
            "5 X 3 = 15\n",
            "5 X 4 = 20\n",
            "5 X 5 = 25\n",
            "5 X 6 = 30\n",
            "5 X 7 = 35\n",
            "5 X 8 = 40\n",
            "5 X 9 = 45\n",
            "------- [6단] -------\n",
            "6 X 1 = 6\n",
            "6 X 2 = 12\n",
            "6 X 3 = 18\n",
            "6 X 4 = 24\n",
            "6 X 5 = 30\n",
            "6 X 6 = 36\n",
            "6 X 7 = 42\n",
            "6 X 8 = 48\n",
            "6 X 9 = 54\n",
            "------- [7단] -------\n",
            "7 X 1 = 7\n",
            "7 X 2 = 14\n",
            "7 X 3 = 21\n",
            "7 X 4 = 28\n",
            "7 X 5 = 35\n",
            "7 X 6 = 42\n",
            "7 X 7 = 49\n",
            "7 X 8 = 56\n",
            "7 X 9 = 63\n",
            "------- [8단] -------\n",
            "8 X 1 = 8\n",
            "8 X 2 = 16\n",
            "8 X 3 = 24\n",
            "8 X 4 = 32\n",
            "8 X 5 = 40\n",
            "8 X 6 = 48\n",
            "8 X 7 = 56\n",
            "8 X 8 = 64\n",
            "8 X 9 = 72\n",
            "------- [9단] -------\n",
            "9 X 1 = 9\n",
            "9 X 2 = 18\n",
            "9 X 3 = 27\n",
            "9 X 4 = 36\n",
            "9 X 5 = 45\n",
            "9 X 6 = 54\n",
            "9 X 7 = 63\n",
            "9 X 8 = 72\n",
            "9 X 9 = 81\n",
            "---------------------\n"
          ],
          "name": "stdout"
        }
      ]
    },
    {
      "cell_type": "code",
      "metadata": {
        "id": "e3PZ35bfjkjs",
        "colab_type": "code",
        "outputId": "05d01c74-20fb-4330-c76f-8bb321e6a498",
        "colab": {
          "base_uri": "https://localhost:8080/",
          "height": 197
        }
      },
      "source": [
        " while True:\n",
        "    number = int(input(\"숫자를 입력하시오\"))\n",
        "    for i in range(1,10):\n",
        "        print (number, \"X\", i, \"=\", number*i)\n",
        "    break\n",
        "\n",
        "\n"
      ],
      "execution_count": 0,
      "outputs": [
        {
          "output_type": "stream",
          "text": [
            "숫자를 입력하시오5\n",
            "5 X 1 = 5\n",
            "5 X 2 = 10\n",
            "5 X 3 = 15\n",
            "5 X 4 = 20\n",
            "5 X 5 = 25\n",
            "5 X 6 = 30\n",
            "5 X 7 = 35\n",
            "5 X 8 = 40\n",
            "5 X 9 = 45\n"
          ],
          "name": "stdout"
        }
      ]
    },
    {
      "cell_type": "code",
      "metadata": {
        "id": "FT8KIuoklrUS",
        "colab_type": "code",
        "outputId": "01da1866-d849-42c7-c0c0-af13a7c4cf30",
        "colab": {
          "base_uri": "https://localhost:8080/",
          "height": 197
        }
      },
      "source": [
        "number=int(input(\"숫자를 입력하세요:\"))\n",
        "\n",
        "while number<1 or number>9:\n",
        "  number=int(input(\"1~9단까지 출력 가능합니다. 다시 입력해주세요:\"))\n",
        "\n",
        "for x in range(1,10):\n",
        "  print(number,\"x\",x,\"=\", number*x)\n",
        "  "
      ],
      "execution_count": 0,
      "outputs": [
        {
          "output_type": "stream",
          "text": [
            "숫자를 입력하세요:5\n",
            "5 x 1 = 5\n",
            "5 x 2 = 10\n",
            "5 x 3 = 15\n",
            "5 x 4 = 20\n",
            "5 x 5 = 25\n",
            "5 x 6 = 30\n",
            "5 x 7 = 35\n",
            "5 x 8 = 40\n",
            "5 x 9 = 45\n"
          ],
          "name": "stdout"
        }
      ]
    },
    {
      "cell_type": "markdown",
      "metadata": {
        "colab_type": "text",
        "id": "_KvhiR1cxZpA"
      },
      "source": [
        "## Q2.\n",
        "> 3과 5의 배수 합하기\n",
        "\n",
        "▪ 10 미만의 자연수에서 3과 5의 배수를 구하면 3, 5, 6, 9이며 이들의 총합은 23이다.\n",
        "\n",
        "▪ 1000 미만의 자연수에서 3의 배수와 5의배수의 총합을 구하라.\n"
      ]
    },
    {
      "cell_type": "code",
      "metadata": {
        "id": "J2Ki8BUB5OQh",
        "colab_type": "code",
        "outputId": "25dd8228-d711-485a-d4b0-604223ca352b",
        "colab": {
          "base_uri": "https://localhost:8080/",
          "height": 35
        }
      },
      "source": [
        "\n",
        "\n",
        "# Right!\n",
        "result = 0\n",
        "for n in range(1, 1000):\n",
        "    if n % 3 == 0 or n % 5 == 0:\n",
        "        result += n\n",
        "print(result) \n"
      ],
      "execution_count": 0,
      "outputs": [
        {
          "output_type": "stream",
          "text": [
            "233168\n"
          ],
          "name": "stdout"
        }
      ]
    },
    {
      "cell_type": "code",
      "metadata": {
        "colab_type": "code",
        "outputId": "f94f105f-ac74-400d-c77f-6dd456ee6c8c",
        "id": "lHqssGOedADr",
        "colab": {
          "base_uri": "https://localhost:8080/",
          "height": 53
        }
      },
      "source": [
        "# Wrong!\n",
        "result_w = 0\n",
        "for n in range(1, 1000):\n",
        "    if n % 3 == 0:\n",
        "        result_w += n\n",
        "    if n % 5 == 0:\n",
        "        result_w += n\n",
        "\n",
        "# 검산을 해보시오.      \n",
        "result_3_5 = 0\n",
        "for n in range(1, 1000):\n",
        "    if n % 3 == 0 and n % 5 == 0:\n",
        "        result_3_5 += n\n",
        "print(result_3_5)\n",
        "\n",
        "(result_w - result_3_5) == result\n"
      ],
      "execution_count": 0,
      "outputs": [
        {
          "output_type": "stream",
          "text": [
            "33165\n"
          ],
          "name": "stdout"
        },
        {
          "output_type": "execute_result",
          "data": {
            "text/plain": [
              "True"
            ]
          },
          "metadata": {
            "tags": []
          },
          "execution_count": 7
        }
      ]
    },
    {
      "cell_type": "markdown",
      "metadata": {
        "colab_type": "text",
        "id": "ce0CkVu36y7L"
      },
      "source": [
        "## Q3.\n",
        "> 게시판 페이징하기\n",
        "\n",
        "▪A 씨는 게시판 프로그램을 작성하고 있다. 그런데 게시물의 총 건수와 한 페이지에 보여 줄 게시물 수를 입력으로 주었을 때 총 페이지 수를 출력하는 프로그램을 만들어보자.\n",
        "\n",
        "한 페이지에서 보여 줄 게시물 수가 최대 10\n",
        "\n",
        "총 페이지 수 = (총 건수 / 한 페이지당 보여 줄 건수) + 1\n"
      ]
    },
    {
      "cell_type": "code",
      "metadata": {
        "colab_type": "code",
        "id": "sbqZGXlydNrK",
        "outputId": "424805b4-858c-4469-ab02-84487769adbb",
        "colab": {
          "base_uri": "https://localhost:8080/",
          "height": 89
        }
      },
      "source": [
        "# [Q3] Code 1 잘못된 예\n",
        "def getTotalPage(m, n):\n",
        "    return m // n + 1\n",
        "\n",
        "\n",
        "print(getTotalPage(5, 10))  # 1 출력\n",
        "print(getTotalPage(15, 10))  # 2 출력\n",
        "print(getTotalPage(25, 10))  # 3 출력\n",
        "print(getTotalPage(30, 10))  # 4 출력, Wrong!"
      ],
      "execution_count": 0,
      "outputs": [
        {
          "output_type": "stream",
          "text": [
            "1\n",
            "2\n",
            "3\n",
            "4\n"
          ],
          "name": "stdout"
        }
      ]
    },
    {
      "cell_type": "code",
      "metadata": {
        "id": "nKpE66yt6Olu",
        "colab_type": "code",
        "colab": {}
      },
      "source": [
        "# [Q3] Code 2 \n",
        "def getTotalPage(m, n):\n",
        "    if m % n == 0:\n",
        "        return m // n\n",
        "    else:\n",
        "        return m // n + 1"
      ],
      "execution_count": 0,
      "outputs": []
    },
    {
      "cell_type": "code",
      "metadata": {
        "id": "czXKT3by7y-O",
        "colab_type": "code",
        "outputId": "a5df47b5-bf2a-43fd-9f3b-041d99ec79af",
        "colab": {
          "base_uri": "https://localhost:8080/",
          "height": 89
        }
      },
      "source": [
        "print(getTotalPage(5, 10))\n",
        "print(getTotalPage(15, 10))\n",
        "print(getTotalPage(25, 10))\n",
        "print(getTotalPage(30, 10))"
      ],
      "execution_count": 0,
      "outputs": [
        {
          "output_type": "stream",
          "text": [
            "1\n",
            "2\n",
            "3\n",
            "3\n"
          ],
          "name": "stdout"
        }
      ]
    },
    {
      "cell_type": "markdown",
      "metadata": {
        "colab_type": "text",
        "id": "Q_vzDbLkxhZZ"
      },
      "source": [
        "## Q4.\n",
        "> 메모장 만들기\n",
        "\n",
        "▪ 원하는 메모를 파일에 저장하고 추가 및 조회가 가능한 간단한 메모장을 만들어 보자.\n",
        "\n",
        "필요한 기능은? 메모 추가하기, 메모 조회하기\n",
        "\n",
        "입력 받는 값은? 메모 내용, 프로그램 실행 옵션\n",
        "\n",
        "출력하는 값은? memo.txt"
      ]
    },
    {
      "cell_type": "code",
      "metadata": {
        "colab_type": "code",
        "outputId": "3444d9d0-ced9-47ff-ca2a-c68e7c9ede47",
        "id": "MbF0TKV3U35w",
        "colab": {
          "base_uri": "https://localhost:8080/",
          "height": 53
        }
      },
      "source": [
        "cd C:\\doit\n"
      ],
      "execution_count": 0,
      "outputs": [
        {
          "output_type": "stream",
          "text": [
            "[Errno 2] No such file or directory: 'C:doit'\n",
            "/content\n"
          ],
          "name": "stdout"
        }
      ]
    },
    {
      "cell_type": "code",
      "metadata": {
        "id": "Emeh1eNjV_G_",
        "colab_type": "code",
        "outputId": "3a497eec-03bc-44c3-95b6-402e00463776",
        "colab": {
          "base_uri": "https://localhost:8080/",
          "height": 35
        }
      },
      "source": [
        "ls"
      ],
      "execution_count": 0,
      "outputs": [
        {
          "output_type": "stream",
          "text": [
            "memo.py  \u001b[0m\u001b[01;34msample_data\u001b[0m/\n"
          ],
          "name": "stdout"
        }
      ]
    },
    {
      "cell_type": "code",
      "metadata": {
        "id": "s_WcIDoIY4Ru",
        "colab_type": "code",
        "colab": {}
      },
      "source": [
        "mkdir 'doit'"
      ],
      "execution_count": 0,
      "outputs": []
    },
    {
      "cell_type": "code",
      "metadata": {
        "id": "0oiIWilRZBOm",
        "colab_type": "code",
        "outputId": "dca02051-8007-4168-d220-abacbd4fe4e8",
        "colab": {
          "base_uri": "https://localhost:8080/",
          "height": 35
        }
      },
      "source": [
        "ls"
      ],
      "execution_count": 0,
      "outputs": [
        {
          "output_type": "stream",
          "text": [
            "\u001b[0m\u001b[01;34mdoit\u001b[0m/  memo.py  \u001b[01;34msample_data\u001b[0m/\n"
          ],
          "name": "stdout"
        }
      ]
    },
    {
      "cell_type": "code",
      "metadata": {
        "id": "hw5Tr78fZHWe",
        "colab_type": "code",
        "colab": {}
      },
      "source": [
        "mv memo.py ./doit/"
      ],
      "execution_count": 0,
      "outputs": []
    },
    {
      "cell_type": "code",
      "metadata": {
        "id": "ca0m-eATZupf",
        "colab_type": "code",
        "outputId": "838bbec1-a2cf-4097-e3a9-6bc21fe7b901",
        "colab": {
          "base_uri": "https://localhost:8080/",
          "height": 35
        }
      },
      "source": [
        "cd doit"
      ],
      "execution_count": 0,
      "outputs": [
        {
          "output_type": "stream",
          "text": [
            "/content/doit\n"
          ],
          "name": "stdout"
        }
      ]
    },
    {
      "cell_type": "code",
      "metadata": {
        "id": "gYI9vMIgZw_m",
        "colab_type": "code",
        "outputId": "e8f0367c-62a2-4007-cbcd-cf15a6e00347",
        "colab": {
          "base_uri": "https://localhost:8080/",
          "height": 35
        }
      },
      "source": [
        "pwd"
      ],
      "execution_count": 0,
      "outputs": [
        {
          "output_type": "execute_result",
          "data": {
            "text/plain": [
              "'/content/doit'"
            ]
          },
          "metadata": {
            "tags": []
          },
          "execution_count": 12
        }
      ]
    },
    {
      "cell_type": "code",
      "metadata": {
        "id": "WraamqXTZzKe",
        "colab_type": "code",
        "colab": {}
      },
      "source": [
        "!python memo.py -a \"Py coding is fun!!\""
      ],
      "execution_count": 0,
      "outputs": []
    },
    {
      "cell_type": "code",
      "metadata": {
        "id": "iWqVxBguaFxG",
        "colab_type": "code",
        "outputId": "c828cd87-b69b-4ad9-c377-df04fb0a0c12",
        "colab": {
          "base_uri": "https://localhost:8080/",
          "height": 53
        }
      },
      "source": [
        "!python memo.py -v"
      ],
      "execution_count": 0,
      "outputs": [
        {
          "output_type": "stream",
          "text": [
            "Py coding is fun!!\n",
            "\n"
          ],
          "name": "stdout"
        }
      ]
    },
    {
      "cell_type": "markdown",
      "metadata": {
        "colab_type": "text",
        "id": "faxyr87WxhlI"
      },
      "source": [
        "## Q5.\n",
        "> 탭을 4개의 공백으로 바꾸기\n",
        "\n",
        "▪ 문서 파일을 읽어서 그 문서 파일 안에 있는 탭(tab)을 공백(space) 4개로 바꾸어 주는 스크립트를 작성\n",
        "\n",
        "필요한 기능은? 문서 파일 읽어 들이기, 문자열 변경하기\n",
        "\n",
        "입력 받는 값은? 탭을 포함한 문서 파일\n",
        "\n",
        "출력하는 값은? 탭이 공백으로 수정된 문서 파일"
      ]
    },
    {
      "cell_type": "code",
      "metadata": {
        "id": "QaUbEP5vMojw",
        "colab_type": "code",
        "outputId": "759b975d-238f-4b5f-e6ae-7682a51233f8",
        "colab": {
          "base_uri": "https://localhost:8080/",
          "height": 35
        }
      },
      "source": [
        "cd .."
      ],
      "execution_count": 0,
      "outputs": [
        {
          "output_type": "stream",
          "text": [
            "/content\n"
          ],
          "name": "stdout"
        }
      ]
    },
    {
      "cell_type": "code",
      "metadata": {
        "id": "7N4ldtLwB5xp",
        "colab_type": "code",
        "outputId": "1797f950-92ea-4a82-8107-3bc2a939042b",
        "colab": {
          "base_uri": "https://localhost:8080/",
          "height": 35
        }
      },
      "source": [
        "ls"
      ],
      "execution_count": 0,
      "outputs": [
        {
          "output_type": "stream",
          "text": [
            "a.txt  \u001b[0m\u001b[01;34mdoit\u001b[0m/  \u001b[01;34msample_data\u001b[0m/  tabto4.py\n"
          ],
          "name": "stdout"
        }
      ]
    },
    {
      "cell_type": "code",
      "metadata": {
        "id": "W561QoS5MR1h",
        "colab_type": "code",
        "colab": {}
      },
      "source": [
        "mv a.txt ./doit/"
      ],
      "execution_count": 0,
      "outputs": []
    },
    {
      "cell_type": "code",
      "metadata": {
        "id": "ZzOjv8_EK-OW",
        "colab_type": "code",
        "colab": {}
      },
      "source": [
        "mv tabto4.py ./doit/"
      ],
      "execution_count": 0,
      "outputs": []
    },
    {
      "cell_type": "code",
      "metadata": {
        "id": "6qXNIR1TLHR2",
        "colab_type": "code",
        "outputId": "7c4efd39-8bab-4efd-96ac-277f481075f3",
        "colab": {
          "base_uri": "https://localhost:8080/",
          "height": 35
        }
      },
      "source": [
        "cd doit"
      ],
      "execution_count": 0,
      "outputs": [
        {
          "output_type": "stream",
          "text": [
            "/content/doit\n"
          ],
          "name": "stdout"
        }
      ]
    },
    {
      "cell_type": "code",
      "metadata": {
        "id": "PyqX4TLZLKwf",
        "colab_type": "code",
        "outputId": "237eef5a-ae66-4b5d-f81a-3ca6b6df1a60",
        "colab": {
          "base_uri": "https://localhost:8080/",
          "height": 35
        }
      },
      "source": [
        "pwd"
      ],
      "execution_count": 0,
      "outputs": [
        {
          "output_type": "execute_result",
          "data": {
            "text/plain": [
              "'/content/doit'"
            ]
          },
          "metadata": {
            "tags": []
          },
          "execution_count": 20
        }
      ]
    },
    {
      "cell_type": "code",
      "metadata": {
        "id": "d-gSDmIsLQJ8",
        "colab_type": "code",
        "colab": {}
      },
      "source": [
        "!python tabto4.py a.txt b.txt"
      ],
      "execution_count": 0,
      "outputs": []
    },
    {
      "cell_type": "markdown",
      "metadata": {
        "colab_type": "text",
        "id": "d5NVuxOzx6VW"
      },
      "source": [
        "## Q6.\n",
        ">폴더 내의 특징 파일 검색\n",
        "\n",
        "▪ 특정 디렉터리부터 시작해서 그 하위 모든 파일 중 파이썬 파일(*.py)만 출력해 주는 프로그램을 만들려면 어떻게 해야 할까?\n"
      ]
    },
    {
      "cell_type": "code",
      "metadata": {
        "id": "VCziFrorhEnI",
        "colab_type": "code",
        "outputId": "e05ed575-22ac-4da6-db13-b32385d80ce3",
        "colab": {
          "base_uri": "https://localhost:8080/",
          "height": 55
        }
      },
      "source": [
        "'''\n",
        "import os\n",
        "\n",
        "def search(dirname):\n",
        "    try:\n",
        "        filenames = os.listdir(dirname)\n",
        "        for filename in filenames:\n",
        "            full_filename = os.path.join(dirname, filename)\n",
        "            if os.path.isdir(full_filename):\n",
        "                search(full_filename)\n",
        "            else:\n",
        "                ext = os.path.splitext(full_filename)[-1]\n",
        "                if ext == '.py': \n",
        "                    print(full_filename)\n",
        "    except PermissionError:\n",
        "        pass\n",
        "\n",
        "search(\"./\")\n",
        "'''"
      ],
      "execution_count": 0,
      "outputs": [
        {
          "output_type": "execute_result",
          "data": {
            "text/plain": [
              "'\\nimport os\\n\\ndef search(dirname):\\n    try:\\n        filenames = os.listdir(dirname)\\n        for filename in filenames:\\n            full_filename = os.path.join(dirname, filename)\\n            if os.path.isdir(full_filename):\\n                search(full_filename)\\n            else:\\n                ext = os.path.splitext(full_filename)[-1]\\n                if ext == \\'.py\\': \\n                    print(full_filename)\\n    except PermissionError:\\n        pass\\n\\nsearch(\"./\")\\n'"
            ]
          },
          "metadata": {
            "tags": []
          },
          "execution_count": 22
        }
      ]
    },
    {
      "cell_type": "code",
      "metadata": {
        "id": "M4EJmmfLgupP",
        "colab_type": "code",
        "outputId": "36f7525f-a204-4d68-ec58-d1ec2adf5783",
        "colab": {
          "base_uri": "https://localhost:8080/",
          "height": 35
        }
      },
      "source": [
        "cd .."
      ],
      "execution_count": 0,
      "outputs": [
        {
          "output_type": "stream",
          "text": [
            "/content\n"
          ],
          "name": "stdout"
        }
      ]
    },
    {
      "cell_type": "code",
      "metadata": {
        "id": "C7R2yqkDgK0Y",
        "colab_type": "code",
        "outputId": "b3bd570c-437f-44a8-c442-6fbcf8bc4070",
        "colab": {
          "base_uri": "https://localhost:8080/",
          "height": 71
        }
      },
      "source": [
        "!python sub_dir_search.py"
      ],
      "execution_count": 0,
      "outputs": [
        {
          "output_type": "stream",
          "text": [
            "./sub_dir_search.py\n",
            "./doit/memo.py\n",
            "./doit/tabto4.py\n"
          ],
          "name": "stdout"
        }
      ]
    }
  ]
}