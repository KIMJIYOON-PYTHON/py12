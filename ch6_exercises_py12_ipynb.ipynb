{
  "nbformat": 4,
  "nbformat_minor": 0,
  "metadata": {
    "colab": {
      "name": "ch6_exercises_py12.ipynb의 사본",
      "provenance": [],
      "collapsed_sections": [],
      "toc_visible": true,
      "include_colab_link": true
    },
    "kernelspec": {
      "name": "python3",
      "display_name": "Python 3"
    }
  },
  "cells": [
    {
      "cell_type": "markdown",
      "metadata": {
        "id": "view-in-github",
        "colab_type": "text"
      },
      "source": [
        "<a href=\"https://colab.research.google.com/github/KIMJIYOON-PYTHON/py12/blob/master/ch6_exercises_py12_ipynb.ipynb\" target=\"_parent\"><img src=\"https://colab.research.google.com/assets/colab-badge.svg\" alt=\"Open In Colab\"/></a>"
      ]
    },
    {
      "cell_type": "markdown",
      "metadata": {
        "colab_type": "text",
        "id": "re2-XrUYXF1m"
      },
      "source": [
        "## Q1.\n",
        ">내가 프로그램을 만들 수 있을까?\n",
        "\n",
        "\n"
      ]
    },
    {
      "cell_type": "code",
      "metadata": {
        "colab_type": "code",
        "id": "Ybx00n1-KnrH",
        "outputId": "f66c7974-eb23-4f12-eba4-12eac2310cc7",
        "colab": {
          "base_uri": "https://localhost:8080/",
          "height": 35
        }
      },
      "source": [
        "\n",
        "def GuGu0(n):\n",
        "    result = []\n",
        "    result.append(n * 1)\n",
        "    result.append(n * 2)\n",
        "    result.append(n * 3)\n",
        "    result.append(n * 4)\n",
        "    result.append(n * 5)\n",
        "    result.append(n * 6)\n",
        "    result.append(n * 7)\n",
        "    result.append(n * 8)\n",
        "    result.append(n * 9)\n",
        "    return result\n",
        "\n",
        "print(GuGu0(2))"
      ],
      "execution_count": 0,
      "outputs": [
        {
          "output_type": "stream",
          "text": [
            "[2, 4, 6, 8, 10, 12, 14, 16, 18]\n"
          ],
          "name": "stdout"
        }
      ]
    },
    {
      "cell_type": "code",
      "metadata": {
        "id": "Z0A_69OzyLqS",
        "colab_type": "code",
        "colab": {}
      },
      "source": [
        "def GuGu(n):\n",
        "  result=[]\n",
        "  i=1\n",
        "  while i<10:\n",
        "    result.append(n*i)\n",
        "    i=i+1\n",
        "  return result"
      ],
      "execution_count": 0,
      "outputs": []
    },
    {
      "cell_type": "code",
      "metadata": {
        "id": "fbui2QH2yd8u",
        "colab_type": "code",
        "outputId": "8608fb5f-f22a-4741-9c16-1815c2ba0998",
        "colab": {
          "base_uri": "https://localhost:8080/",
          "height": 35
        }
      },
      "source": [
        "print(GuGu(4))"
      ],
      "execution_count": 0,
      "outputs": [
        {
          "output_type": "stream",
          "text": [
            "[4, 8, 12, 16, 20, 24, 28, 32, 36]\n"
          ],
          "name": "stdout"
        }
      ]
    },
    {
      "cell_type": "markdown",
      "metadata": {
        "colab_type": "text",
        "id": "_KvhiR1cxZpA"
      },
      "source": [
        "## Q2.\n",
        "> 3과 5의 배수 합하기\n"
      ]
    },
    {
      "cell_type": "code",
      "metadata": {
        "id": "J2Ki8BUB5OQh",
        "colab_type": "code",
        "outputId": "661ef223-213b-45b0-db9f-7175356d346f",
        "colab": {
          "base_uri": "https://localhost:8080/",
          "height": 35
        }
      },
      "source": [
        "\n",
        "\n",
        "\n",
        "result = 0\n",
        "for n in range(1, 1000):\n",
        "    if n % 3 == 0 or n % 5 == 0:\n",
        "        result += n\n",
        "print(result) \n"
      ],
      "execution_count": 0,
      "outputs": [
        {
          "output_type": "stream",
          "text": [
            "233168\n"
          ],
          "name": "stdout"
        }
      ]
    },
    {
      "cell_type": "markdown",
      "metadata": {
        "colab_type": "text",
        "id": "ce0CkVu36y7L"
      },
      "source": [
        "## Q3.\n",
        "> 게시판 페이징하기\n"
      ]
    },
    {
      "cell_type": "code",
      "metadata": {
        "id": "nKpE66yt6Olu",
        "colab_type": "code",
        "colab": {}
      },
      "source": [
        "def getTotalPage(m, n):\n",
        "    if m % n == 0:\n",
        "        return m // n\n",
        "    else:\n",
        "        return m // n + 1"
      ],
      "execution_count": 0,
      "outputs": []
    },
    {
      "cell_type": "code",
      "metadata": {
        "id": "czXKT3by7y-O",
        "colab_type": "code",
        "outputId": "a5df47b5-bf2a-43fd-9f3b-041d99ec79af",
        "colab": {
          "base_uri": "https://localhost:8080/",
          "height": 89
        }
      },
      "source": [
        "print(getTotalPage(5, 10))\n",
        "print(getTotalPage(15, 10))\n",
        "print(getTotalPage(25, 10))\n",
        "print(getTotalPage(30, 10))"
      ],
      "execution_count": 0,
      "outputs": [
        {
          "output_type": "stream",
          "text": [
            "1\n",
            "2\n",
            "3\n",
            "3\n"
          ],
          "name": "stdout"
        }
      ]
    },
    {
      "cell_type": "markdown",
      "metadata": {
        "colab_type": "text",
        "id": "Q_vzDbLkxhZZ"
      },
      "source": [
        "## Q4.\n",
        "> 메모장 만들기\n"
      ]
    },
    {
      "cell_type": "code",
      "metadata": {
        "colab_type": "code",
        "outputId": "3444d9d0-ced9-47ff-ca2a-c68e7c9ede47",
        "id": "MbF0TKV3U35w",
        "colab": {
          "base_uri": "https://localhost:8080/",
          "height": 53
        }
      },
      "source": [
        "cd C:\\doit\n"
      ],
      "execution_count": 0,
      "outputs": [
        {
          "output_type": "stream",
          "text": [
            "[Errno 2] No such file or directory: 'C:doit'\n",
            "/content\n"
          ],
          "name": "stdout"
        }
      ]
    },
    {
      "cell_type": "code",
      "metadata": {
        "id": "Emeh1eNjV_G_",
        "colab_type": "code",
        "outputId": "3a497eec-03bc-44c3-95b6-402e00463776",
        "colab": {
          "base_uri": "https://localhost:8080/",
          "height": 35
        }
      },
      "source": [
        "ls"
      ],
      "execution_count": 0,
      "outputs": [
        {
          "output_type": "stream",
          "text": [
            "memo.py  \u001b[0m\u001b[01;34msample_data\u001b[0m/\n"
          ],
          "name": "stdout"
        }
      ]
    },
    {
      "cell_type": "code",
      "metadata": {
        "id": "s_WcIDoIY4Ru",
        "colab_type": "code",
        "colab": {}
      },
      "source": [
        "mkdir 'doit'"
      ],
      "execution_count": 0,
      "outputs": []
    },
    {
      "cell_type": "code",
      "metadata": {
        "id": "0oiIWilRZBOm",
        "colab_type": "code",
        "outputId": "dca02051-8007-4168-d220-abacbd4fe4e8",
        "colab": {
          "base_uri": "https://localhost:8080/",
          "height": 35
        }
      },
      "source": [
        "ls"
      ],
      "execution_count": 0,
      "outputs": [
        {
          "output_type": "stream",
          "text": [
            "\u001b[0m\u001b[01;34mdoit\u001b[0m/  memo.py  \u001b[01;34msample_data\u001b[0m/\n"
          ],
          "name": "stdout"
        }
      ]
    },
    {
      "cell_type": "code",
      "metadata": {
        "id": "hw5Tr78fZHWe",
        "colab_type": "code",
        "colab": {}
      },
      "source": [
        "mv memo.py ./doit/"
      ],
      "execution_count": 0,
      "outputs": []
    },
    {
      "cell_type": "code",
      "metadata": {
        "id": "ca0m-eATZupf",
        "colab_type": "code",
        "outputId": "838bbec1-a2cf-4097-e3a9-6bc21fe7b901",
        "colab": {
          "base_uri": "https://localhost:8080/",
          "height": 35
        }
      },
      "source": [
        "cd doit"
      ],
      "execution_count": 0,
      "outputs": [
        {
          "output_type": "stream",
          "text": [
            "/content/doit\n"
          ],
          "name": "stdout"
        }
      ]
    },
    {
      "cell_type": "code",
      "metadata": {
        "id": "gYI9vMIgZw_m",
        "colab_type": "code",
        "outputId": "e8f0367c-62a2-4007-cbcd-cf15a6e00347",
        "colab": {
          "base_uri": "https://localhost:8080/",
          "height": 35
        }
      },
      "source": [
        "pwd"
      ],
      "execution_count": 0,
      "outputs": [
        {
          "output_type": "execute_result",
          "data": {
            "text/plain": [
              "'/content/doit'"
            ]
          },
          "metadata": {
            "tags": []
          },
          "execution_count": 12
        }
      ]
    },
    {
      "cell_type": "code",
      "metadata": {
        "id": "WraamqXTZzKe",
        "colab_type": "code",
        "colab": {}
      },
      "source": [
        "!python memo.py -a \"Py coding is fun!!\""
      ],
      "execution_count": 0,
      "outputs": []
    },
    {
      "cell_type": "code",
      "metadata": {
        "id": "iWqVxBguaFxG",
        "colab_type": "code",
        "outputId": "c828cd87-b69b-4ad9-c377-df04fb0a0c12",
        "colab": {
          "base_uri": "https://localhost:8080/",
          "height": 53
        }
      },
      "source": [
        "!python memo.py -v"
      ],
      "execution_count": 0,
      "outputs": [
        {
          "output_type": "stream",
          "text": [
            "Py coding is fun!!\n",
            "\n"
          ],
          "name": "stdout"
        }
      ]
    },
    {
      "cell_type": "markdown",
      "metadata": {
        "colab_type": "text",
        "id": "faxyr87WxhlI"
      },
      "source": [
        "## Q5.\n",
        "> 탭을 4개의 공백으로 바꾸기"
      ]
    },
    {
      "cell_type": "code",
      "metadata": {
        "id": "QaUbEP5vMojw",
        "colab_type": "code",
        "outputId": "759b975d-238f-4b5f-e6ae-7682a51233f8",
        "colab": {
          "base_uri": "https://localhost:8080/",
          "height": 35
        }
      },
      "source": [
        "cd .."
      ],
      "execution_count": 0,
      "outputs": [
        {
          "output_type": "stream",
          "text": [
            "/content\n"
          ],
          "name": "stdout"
        }
      ]
    },
    {
      "cell_type": "code",
      "metadata": {
        "id": "7N4ldtLwB5xp",
        "colab_type": "code",
        "outputId": "1797f950-92ea-4a82-8107-3bc2a939042b",
        "colab": {
          "base_uri": "https://localhost:8080/",
          "height": 35
        }
      },
      "source": [
        "ls"
      ],
      "execution_count": 0,
      "outputs": [
        {
          "output_type": "stream",
          "text": [
            "a.txt  \u001b[0m\u001b[01;34mdoit\u001b[0m/  \u001b[01;34msample_data\u001b[0m/  tabto4.py\n"
          ],
          "name": "stdout"
        }
      ]
    },
    {
      "cell_type": "code",
      "metadata": {
        "id": "W561QoS5MR1h",
        "colab_type": "code",
        "colab": {}
      },
      "source": [
        "mv a.txt ./doit/"
      ],
      "execution_count": 0,
      "outputs": []
    },
    {
      "cell_type": "code",
      "metadata": {
        "id": "ZzOjv8_EK-OW",
        "colab_type": "code",
        "colab": {}
      },
      "source": [
        "mv tabto4.py ./doit/"
      ],
      "execution_count": 0,
      "outputs": []
    },
    {
      "cell_type": "code",
      "metadata": {
        "id": "6qXNIR1TLHR2",
        "colab_type": "code",
        "outputId": "7c4efd39-8bab-4efd-96ac-277f481075f3",
        "colab": {
          "base_uri": "https://localhost:8080/",
          "height": 35
        }
      },
      "source": [
        "cd doit"
      ],
      "execution_count": 0,
      "outputs": [
        {
          "output_type": "stream",
          "text": [
            "/content/doit\n"
          ],
          "name": "stdout"
        }
      ]
    },
    {
      "cell_type": "code",
      "metadata": {
        "id": "PyqX4TLZLKwf",
        "colab_type": "code",
        "outputId": "237eef5a-ae66-4b5d-f81a-3ca6b6df1a60",
        "colab": {
          "base_uri": "https://localhost:8080/",
          "height": 35
        }
      },
      "source": [
        "pwd"
      ],
      "execution_count": 0,
      "outputs": [
        {
          "output_type": "execute_result",
          "data": {
            "text/plain": [
              "'/content/doit'"
            ]
          },
          "metadata": {
            "tags": []
          },
          "execution_count": 20
        }
      ]
    },
    {
      "cell_type": "code",
      "metadata": {
        "id": "d-gSDmIsLQJ8",
        "colab_type": "code",
        "colab": {}
      },
      "source": [
        "!python tabto4.py a.txt b.txt"
      ],
      "execution_count": 0,
      "outputs": []
    },
    {
      "cell_type": "markdown",
      "metadata": {
        "colab_type": "text",
        "id": "d5NVuxOzx6VW"
      },
      "source": [
        "## Q6.\n",
        "> 폴더 내의 특징 파일 검색\n"
      ]
    },
    {
      "cell_type": "code",
      "metadata": {
        "id": "VCziFrorhEnI",
        "colab_type": "code",
        "outputId": "e05ed575-22ac-4da6-db13-b32385d80ce3",
        "colab": {
          "base_uri": "https://localhost:8080/",
          "height": 55
        }
      },
      "source": [
        "'''\n",
        "import os\n",
        "\n",
        "def search(dirname):\n",
        "    try:\n",
        "        filenames = os.listdir(dirname)\n",
        "        for filename in filenames:\n",
        "            full_filename = os.path.join(dirname, filename)\n",
        "            if os.path.isdir(full_filename):\n",
        "                search(full_filename)\n",
        "            else:\n",
        "                ext = os.path.splitext(full_filename)[-1]\n",
        "                if ext == '.py': \n",
        "                    print(full_filename)\n",
        "    except PermissionError:\n",
        "        pass\n",
        "\n",
        "search(\"./\")\n",
        "'''"
      ],
      "execution_count": 0,
      "outputs": [
        {
          "output_type": "execute_result",
          "data": {
            "text/plain": [
              "'\\nimport os\\n\\ndef search(dirname):\\n    try:\\n        filenames = os.listdir(dirname)\\n        for filename in filenames:\\n            full_filename = os.path.join(dirname, filename)\\n            if os.path.isdir(full_filename):\\n                search(full_filename)\\n            else:\\n                ext = os.path.splitext(full_filename)[-1]\\n                if ext == \\'.py\\': \\n                    print(full_filename)\\n    except PermissionError:\\n        pass\\n\\nsearch(\"./\")\\n'"
            ]
          },
          "metadata": {
            "tags": []
          },
          "execution_count": 22
        }
      ]
    },
    {
      "cell_type": "code",
      "metadata": {
        "id": "M4EJmmfLgupP",
        "colab_type": "code",
        "outputId": "36f7525f-a204-4d68-ec58-d1ec2adf5783",
        "colab": {
          "base_uri": "https://localhost:8080/",
          "height": 35
        }
      },
      "source": [
        "cd .."
      ],
      "execution_count": 0,
      "outputs": [
        {
          "output_type": "stream",
          "text": [
            "/content\n"
          ],
          "name": "stdout"
        }
      ]
    },
    {
      "cell_type": "code",
      "metadata": {
        "id": "C7R2yqkDgK0Y",
        "colab_type": "code",
        "outputId": "b3bd570c-437f-44a8-c442-6fbcf8bc4070",
        "colab": {
          "base_uri": "https://localhost:8080/",
          "height": 71
        }
      },
      "source": [
        "!python sub_dir_search.py"
      ],
      "execution_count": 0,
      "outputs": [
        {
          "output_type": "stream",
          "text": [
            "./sub_dir_search.py\n",
            "./doit/memo.py\n",
            "./doit/tabto4.py\n"
          ],
          "name": "stdout"
        }
      ]
    }
  ]
}